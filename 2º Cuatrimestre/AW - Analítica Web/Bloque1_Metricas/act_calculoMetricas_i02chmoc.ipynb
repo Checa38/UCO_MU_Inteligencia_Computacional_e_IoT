{
  "nbformat": 4,
  "nbformat_minor": 0,
  "metadata": {
    "colab": {
      "provenance": []
    },
    "kernelspec": {
      "name": "python3",
      "display_name": "Python 3"
    },
    "language_info": {
      "name": "python"
    }
  },
  "cells": [
    {
      "cell_type": "markdown",
      "source": [
        "# Analítica Web\n",
        "## Actividad: Cálculo de métricas de un sitio web\n",
        "Carlos Checa Moreno\n",
        "\n",
        "i02chmoc@uco.es"
      ],
      "metadata": {
        "id": "mn0AgoVycefY"
      }
    },
    {
      "cell_type": "markdown",
      "source": [
        "# Enlace a Google Colab\n",
        "\n",
        "https://colab.research.google.com/drive/1IxH9VMv9gVfo1Lm1e8nFPLFxIazqB3Mm?usp=sharing"
      ],
      "metadata": {
        "id": "lmZVE9ZyWrw6"
      }
    },
    {
      "cell_type": "markdown",
      "source": [
        "# Ejercicio\n",
        "A partir del dataset anterior, calcula las siguientes métricas para el periodo de tiempo registrado\n",
        "\n",
        "*   N.º de visitas → Número de visitas (sesiones que ha tenido el sitio web)\n",
        "*   N.º de visitantes únicos → Número de usuarios diferentes que han visitado el sitio web\n",
        "*   N.º medio de páginas/visitas →Para cada visita (sesión) cuántas páginas se han visitado. Media\n",
        " para todas las visitas\n",
        "*   Tasa de rebote → Número de visitas (sesiones) que solo han accedido a una página\n",
        "*   Tasa de salida para cada página → % de veces que cada página ha sido una página de salida\n",
        "*   Tráfico directo → Número de visitas (sesiones) que provienen de escribir la url directamente\n",
        "*   Tráfico de búsqueda → Número de visitas (sesiones) que provienen de pinchar en una búsqueda\n",
        "*   Tráfico referido → Número de visitas (sesiones) que provienen de pinchar en un enlace de otra página\n"
      ],
      "metadata": {
        "id": "CWjwZ9R6c4SO"
      }
    },
    {
      "cell_type": "code",
      "execution_count": null,
      "metadata": {
        "id": "k2RaMRzJ8MPy"
      },
      "outputs": [],
      "source": [
        "import pandas as pd"
      ]
    },
    {
      "cell_type": "code",
      "source": [
        "df = pd.read_csv('LogsDataiku.csv')\n",
        "df.head()"
      ],
      "metadata": {
        "colab": {
          "base_uri": "https://localhost:8080/",
          "height": 469
        },
        "id": "TyFzrqDD8Q73",
        "outputId": "bd93b139-7950-43aa-82b2-5d8874c7dd05"
      },
      "execution_count": null,
      "outputs": [
        {
          "output_type": "execute_result",
          "data": {
            "text/plain": [
              "                 server_ts                client_ts     client_addr  \\\n",
              "0  2014-03-01T03:39:23.099  2014-03-01T03:39:24.222   50.204.38.160   \n",
              "1  2014-03-01T03:48:03.255  2014-03-01T03:48:02.658   27.32.161.160   \n",
              "2  2014-03-01T06:25:34.566  2014-03-01T06:25:34.524  66.250.143.150   \n",
              "3  2014-03-01T06:39:04.869  2014-03-01T06:39:06.764    207.126.92.0   \n",
              "4  2014-03-01T06:41:15.033  2014-03-01T06:41:06.496   70.72.174.130   \n",
              "\n",
              "        visitor_id       session_id  \\\n",
              "0  45467421ac4f218  463fe4c146ea482   \n",
              "1  5fcc5e41efb0fbd  bc65d2c1a81974f   \n",
              "2  1cad2751ed7eeaf  f6bc5851e373824   \n",
              "3  aa7f46a1b81a297  958c8c612c038ba   \n",
              "4  488afab1d36e232  b2e7a6c1157aad1   \n",
              "\n",
              "                                            location  \\\n",
              "0  http://dataiku.com/blog/2014/01/14/winning-kag...   \n",
              "1               http://www.dataiku.com/applications/   \n",
              "2                            http://www.dataiku.com/   \n",
              "3  http://dataiku.com/blog/2012/12/07/visualizing...   \n",
              "4  http://www.dataiku.com/blog/2014/01/14/winning...   \n",
              "\n",
              "                                             referer  \\\n",
              "0                                                NaN   \n",
              "1            http://www.dataiku.com/products/shaker/   \n",
              "2  http://strataconf.com/strata2014/public/schedu...   \n",
              "3                                                NaN   \n",
              "4  http://www.kaggle.com/c/yandex-personalized-we...   \n",
              "\n",
              "                                          user_agent  type  visitor_params  \\\n",
              "0  Mozilla/5.0 (Macintosh; Intel Mac OS X 10_9_1)...  page             NaN   \n",
              "1  Mozilla/5.0 (X11; Linux x86_64) AppleWebKit/53...  page             NaN   \n",
              "2  Mozilla/5.0 (Macintosh; Intel Mac OS X 10_9_1)...  page             NaN   \n",
              "3  Mozilla/5.0 (Windows NT 6.1; rv:27.0) Gecko/20...  page             NaN   \n",
              "4  Mozilla/5.0 (Windows NT 6.1; WOW64) AppleWebKi...  page             NaN   \n",
              "\n",
              "   session_params  event_params  br_width  br_height  sc_width  sc_height  \\\n",
              "0             NaN           NaN      1920        986      1920       1080   \n",
              "1             NaN           NaN      1680        963      1680       1050   \n",
              "2             NaN           NaN      1183        658      1280        800   \n",
              "3             NaN           NaN      1366        664      1366        768   \n",
              "4             NaN           NaN      1920        995      1920       1080   \n",
              "\n",
              "  br_lang  tz_off  \n",
              "0   en-US     300  \n",
              "1   en-GB    -660  \n",
              "2   en-US     300  \n",
              "3   en-US    -480  \n",
              "4   en-US     420  "
            ],
            "text/html": [
              "\n",
              "  <div id=\"df-760476d3-cf17-44d7-9ffe-af9a7f0c2b05\" class=\"colab-df-container\">\n",
              "    <div>\n",
              "<style scoped>\n",
              "    .dataframe tbody tr th:only-of-type {\n",
              "        vertical-align: middle;\n",
              "    }\n",
              "\n",
              "    .dataframe tbody tr th {\n",
              "        vertical-align: top;\n",
              "    }\n",
              "\n",
              "    .dataframe thead th {\n",
              "        text-align: right;\n",
              "    }\n",
              "</style>\n",
              "<table border=\"1\" class=\"dataframe\">\n",
              "  <thead>\n",
              "    <tr style=\"text-align: right;\">\n",
              "      <th></th>\n",
              "      <th>server_ts</th>\n",
              "      <th>client_ts</th>\n",
              "      <th>client_addr</th>\n",
              "      <th>visitor_id</th>\n",
              "      <th>session_id</th>\n",
              "      <th>location</th>\n",
              "      <th>referer</th>\n",
              "      <th>user_agent</th>\n",
              "      <th>type</th>\n",
              "      <th>visitor_params</th>\n",
              "      <th>session_params</th>\n",
              "      <th>event_params</th>\n",
              "      <th>br_width</th>\n",
              "      <th>br_height</th>\n",
              "      <th>sc_width</th>\n",
              "      <th>sc_height</th>\n",
              "      <th>br_lang</th>\n",
              "      <th>tz_off</th>\n",
              "    </tr>\n",
              "  </thead>\n",
              "  <tbody>\n",
              "    <tr>\n",
              "      <th>0</th>\n",
              "      <td>2014-03-01T03:39:23.099</td>\n",
              "      <td>2014-03-01T03:39:24.222</td>\n",
              "      <td>50.204.38.160</td>\n",
              "      <td>45467421ac4f218</td>\n",
              "      <td>463fe4c146ea482</td>\n",
              "      <td>http://dataiku.com/blog/2014/01/14/winning-kag...</td>\n",
              "      <td>NaN</td>\n",
              "      <td>Mozilla/5.0 (Macintosh; Intel Mac OS X 10_9_1)...</td>\n",
              "      <td>page</td>\n",
              "      <td>NaN</td>\n",
              "      <td>NaN</td>\n",
              "      <td>NaN</td>\n",
              "      <td>1920</td>\n",
              "      <td>986</td>\n",
              "      <td>1920</td>\n",
              "      <td>1080</td>\n",
              "      <td>en-US</td>\n",
              "      <td>300</td>\n",
              "    </tr>\n",
              "    <tr>\n",
              "      <th>1</th>\n",
              "      <td>2014-03-01T03:48:03.255</td>\n",
              "      <td>2014-03-01T03:48:02.658</td>\n",
              "      <td>27.32.161.160</td>\n",
              "      <td>5fcc5e41efb0fbd</td>\n",
              "      <td>bc65d2c1a81974f</td>\n",
              "      <td>http://www.dataiku.com/applications/</td>\n",
              "      <td>http://www.dataiku.com/products/shaker/</td>\n",
              "      <td>Mozilla/5.0 (X11; Linux x86_64) AppleWebKit/53...</td>\n",
              "      <td>page</td>\n",
              "      <td>NaN</td>\n",
              "      <td>NaN</td>\n",
              "      <td>NaN</td>\n",
              "      <td>1680</td>\n",
              "      <td>963</td>\n",
              "      <td>1680</td>\n",
              "      <td>1050</td>\n",
              "      <td>en-GB</td>\n",
              "      <td>-660</td>\n",
              "    </tr>\n",
              "    <tr>\n",
              "      <th>2</th>\n",
              "      <td>2014-03-01T06:25:34.566</td>\n",
              "      <td>2014-03-01T06:25:34.524</td>\n",
              "      <td>66.250.143.150</td>\n",
              "      <td>1cad2751ed7eeaf</td>\n",
              "      <td>f6bc5851e373824</td>\n",
              "      <td>http://www.dataiku.com/</td>\n",
              "      <td>http://strataconf.com/strata2014/public/schedu...</td>\n",
              "      <td>Mozilla/5.0 (Macintosh; Intel Mac OS X 10_9_1)...</td>\n",
              "      <td>page</td>\n",
              "      <td>NaN</td>\n",
              "      <td>NaN</td>\n",
              "      <td>NaN</td>\n",
              "      <td>1183</td>\n",
              "      <td>658</td>\n",
              "      <td>1280</td>\n",
              "      <td>800</td>\n",
              "      <td>en-US</td>\n",
              "      <td>300</td>\n",
              "    </tr>\n",
              "    <tr>\n",
              "      <th>3</th>\n",
              "      <td>2014-03-01T06:39:04.869</td>\n",
              "      <td>2014-03-01T06:39:06.764</td>\n",
              "      <td>207.126.92.0</td>\n",
              "      <td>aa7f46a1b81a297</td>\n",
              "      <td>958c8c612c038ba</td>\n",
              "      <td>http://dataiku.com/blog/2012/12/07/visualizing...</td>\n",
              "      <td>NaN</td>\n",
              "      <td>Mozilla/5.0 (Windows NT 6.1; rv:27.0) Gecko/20...</td>\n",
              "      <td>page</td>\n",
              "      <td>NaN</td>\n",
              "      <td>NaN</td>\n",
              "      <td>NaN</td>\n",
              "      <td>1366</td>\n",
              "      <td>664</td>\n",
              "      <td>1366</td>\n",
              "      <td>768</td>\n",
              "      <td>en-US</td>\n",
              "      <td>-480</td>\n",
              "    </tr>\n",
              "    <tr>\n",
              "      <th>4</th>\n",
              "      <td>2014-03-01T06:41:15.033</td>\n",
              "      <td>2014-03-01T06:41:06.496</td>\n",
              "      <td>70.72.174.130</td>\n",
              "      <td>488afab1d36e232</td>\n",
              "      <td>b2e7a6c1157aad1</td>\n",
              "      <td>http://www.dataiku.com/blog/2014/01/14/winning...</td>\n",
              "      <td>http://www.kaggle.com/c/yandex-personalized-we...</td>\n",
              "      <td>Mozilla/5.0 (Windows NT 6.1; WOW64) AppleWebKi...</td>\n",
              "      <td>page</td>\n",
              "      <td>NaN</td>\n",
              "      <td>NaN</td>\n",
              "      <td>NaN</td>\n",
              "      <td>1920</td>\n",
              "      <td>995</td>\n",
              "      <td>1920</td>\n",
              "      <td>1080</td>\n",
              "      <td>en-US</td>\n",
              "      <td>420</td>\n",
              "    </tr>\n",
              "  </tbody>\n",
              "</table>\n",
              "</div>\n",
              "    <div class=\"colab-df-buttons\">\n",
              "\n",
              "  <div class=\"colab-df-container\">\n",
              "    <button class=\"colab-df-convert\" onclick=\"convertToInteractive('df-760476d3-cf17-44d7-9ffe-af9a7f0c2b05')\"\n",
              "            title=\"Convert this dataframe to an interactive table.\"\n",
              "            style=\"display:none;\">\n",
              "\n",
              "  <svg xmlns=\"http://www.w3.org/2000/svg\" height=\"24px\" viewBox=\"0 -960 960 960\">\n",
              "    <path d=\"M120-120v-720h720v720H120Zm60-500h600v-160H180v160Zm220 220h160v-160H400v160Zm0 220h160v-160H400v160ZM180-400h160v-160H180v160Zm440 0h160v-160H620v160ZM180-180h160v-160H180v160Zm440 0h160v-160H620v160Z\"/>\n",
              "  </svg>\n",
              "    </button>\n",
              "\n",
              "  <style>\n",
              "    .colab-df-container {\n",
              "      display:flex;\n",
              "      gap: 12px;\n",
              "    }\n",
              "\n",
              "    .colab-df-convert {\n",
              "      background-color: #E8F0FE;\n",
              "      border: none;\n",
              "      border-radius: 50%;\n",
              "      cursor: pointer;\n",
              "      display: none;\n",
              "      fill: #1967D2;\n",
              "      height: 32px;\n",
              "      padding: 0 0 0 0;\n",
              "      width: 32px;\n",
              "    }\n",
              "\n",
              "    .colab-df-convert:hover {\n",
              "      background-color: #E2EBFA;\n",
              "      box-shadow: 0px 1px 2px rgba(60, 64, 67, 0.3), 0px 1px 3px 1px rgba(60, 64, 67, 0.15);\n",
              "      fill: #174EA6;\n",
              "    }\n",
              "\n",
              "    .colab-df-buttons div {\n",
              "      margin-bottom: 4px;\n",
              "    }\n",
              "\n",
              "    [theme=dark] .colab-df-convert {\n",
              "      background-color: #3B4455;\n",
              "      fill: #D2E3FC;\n",
              "    }\n",
              "\n",
              "    [theme=dark] .colab-df-convert:hover {\n",
              "      background-color: #434B5C;\n",
              "      box-shadow: 0px 1px 3px 1px rgba(0, 0, 0, 0.15);\n",
              "      filter: drop-shadow(0px 1px 2px rgba(0, 0, 0, 0.3));\n",
              "      fill: #FFFFFF;\n",
              "    }\n",
              "  </style>\n",
              "\n",
              "    <script>\n",
              "      const buttonEl =\n",
              "        document.querySelector('#df-760476d3-cf17-44d7-9ffe-af9a7f0c2b05 button.colab-df-convert');\n",
              "      buttonEl.style.display =\n",
              "        google.colab.kernel.accessAllowed ? 'block' : 'none';\n",
              "\n",
              "      async function convertToInteractive(key) {\n",
              "        const element = document.querySelector('#df-760476d3-cf17-44d7-9ffe-af9a7f0c2b05');\n",
              "        const dataTable =\n",
              "          await google.colab.kernel.invokeFunction('convertToInteractive',\n",
              "                                                    [key], {});\n",
              "        if (!dataTable) return;\n",
              "\n",
              "        const docLinkHtml = 'Like what you see? Visit the ' +\n",
              "          '<a target=\"_blank\" href=https://colab.research.google.com/notebooks/data_table.ipynb>data table notebook</a>'\n",
              "          + ' to learn more about interactive tables.';\n",
              "        element.innerHTML = '';\n",
              "        dataTable['output_type'] = 'display_data';\n",
              "        await google.colab.output.renderOutput(dataTable, element);\n",
              "        const docLink = document.createElement('div');\n",
              "        docLink.innerHTML = docLinkHtml;\n",
              "        element.appendChild(docLink);\n",
              "      }\n",
              "    </script>\n",
              "  </div>\n",
              "\n",
              "\n",
              "<div id=\"df-9f9fbeb4-4b6a-477f-b871-3e6c46dc43eb\">\n",
              "  <button class=\"colab-df-quickchart\" onclick=\"quickchart('df-9f9fbeb4-4b6a-477f-b871-3e6c46dc43eb')\"\n",
              "            title=\"Suggest charts\"\n",
              "            style=\"display:none;\">\n",
              "\n",
              "<svg xmlns=\"http://www.w3.org/2000/svg\" height=\"24px\"viewBox=\"0 0 24 24\"\n",
              "     width=\"24px\">\n",
              "    <g>\n",
              "        <path d=\"M19 3H5c-1.1 0-2 .9-2 2v14c0 1.1.9 2 2 2h14c1.1 0 2-.9 2-2V5c0-1.1-.9-2-2-2zM9 17H7v-7h2v7zm4 0h-2V7h2v10zm4 0h-2v-4h2v4z\"/>\n",
              "    </g>\n",
              "</svg>\n",
              "  </button>\n",
              "\n",
              "<style>\n",
              "  .colab-df-quickchart {\n",
              "      --bg-color: #E8F0FE;\n",
              "      --fill-color: #1967D2;\n",
              "      --hover-bg-color: #E2EBFA;\n",
              "      --hover-fill-color: #174EA6;\n",
              "      --disabled-fill-color: #AAA;\n",
              "      --disabled-bg-color: #DDD;\n",
              "  }\n",
              "\n",
              "  [theme=dark] .colab-df-quickchart {\n",
              "      --bg-color: #3B4455;\n",
              "      --fill-color: #D2E3FC;\n",
              "      --hover-bg-color: #434B5C;\n",
              "      --hover-fill-color: #FFFFFF;\n",
              "      --disabled-bg-color: #3B4455;\n",
              "      --disabled-fill-color: #666;\n",
              "  }\n",
              "\n",
              "  .colab-df-quickchart {\n",
              "    background-color: var(--bg-color);\n",
              "    border: none;\n",
              "    border-radius: 50%;\n",
              "    cursor: pointer;\n",
              "    display: none;\n",
              "    fill: var(--fill-color);\n",
              "    height: 32px;\n",
              "    padding: 0;\n",
              "    width: 32px;\n",
              "  }\n",
              "\n",
              "  .colab-df-quickchart:hover {\n",
              "    background-color: var(--hover-bg-color);\n",
              "    box-shadow: 0 1px 2px rgba(60, 64, 67, 0.3), 0 1px 3px 1px rgba(60, 64, 67, 0.15);\n",
              "    fill: var(--button-hover-fill-color);\n",
              "  }\n",
              "\n",
              "  .colab-df-quickchart-complete:disabled,\n",
              "  .colab-df-quickchart-complete:disabled:hover {\n",
              "    background-color: var(--disabled-bg-color);\n",
              "    fill: var(--disabled-fill-color);\n",
              "    box-shadow: none;\n",
              "  }\n",
              "\n",
              "  .colab-df-spinner {\n",
              "    border: 2px solid var(--fill-color);\n",
              "    border-color: transparent;\n",
              "    border-bottom-color: var(--fill-color);\n",
              "    animation:\n",
              "      spin 1s steps(1) infinite;\n",
              "  }\n",
              "\n",
              "  @keyframes spin {\n",
              "    0% {\n",
              "      border-color: transparent;\n",
              "      border-bottom-color: var(--fill-color);\n",
              "      border-left-color: var(--fill-color);\n",
              "    }\n",
              "    20% {\n",
              "      border-color: transparent;\n",
              "      border-left-color: var(--fill-color);\n",
              "      border-top-color: var(--fill-color);\n",
              "    }\n",
              "    30% {\n",
              "      border-color: transparent;\n",
              "      border-left-color: var(--fill-color);\n",
              "      border-top-color: var(--fill-color);\n",
              "      border-right-color: var(--fill-color);\n",
              "    }\n",
              "    40% {\n",
              "      border-color: transparent;\n",
              "      border-right-color: var(--fill-color);\n",
              "      border-top-color: var(--fill-color);\n",
              "    }\n",
              "    60% {\n",
              "      border-color: transparent;\n",
              "      border-right-color: var(--fill-color);\n",
              "    }\n",
              "    80% {\n",
              "      border-color: transparent;\n",
              "      border-right-color: var(--fill-color);\n",
              "      border-bottom-color: var(--fill-color);\n",
              "    }\n",
              "    90% {\n",
              "      border-color: transparent;\n",
              "      border-bottom-color: var(--fill-color);\n",
              "    }\n",
              "  }\n",
              "</style>\n",
              "\n",
              "  <script>\n",
              "    async function quickchart(key) {\n",
              "      const quickchartButtonEl =\n",
              "        document.querySelector('#' + key + ' button');\n",
              "      quickchartButtonEl.disabled = true;  // To prevent multiple clicks.\n",
              "      quickchartButtonEl.classList.add('colab-df-spinner');\n",
              "      try {\n",
              "        const charts = await google.colab.kernel.invokeFunction(\n",
              "            'suggestCharts', [key], {});\n",
              "      } catch (error) {\n",
              "        console.error('Error during call to suggestCharts:', error);\n",
              "      }\n",
              "      quickchartButtonEl.classList.remove('colab-df-spinner');\n",
              "      quickchartButtonEl.classList.add('colab-df-quickchart-complete');\n",
              "    }\n",
              "    (() => {\n",
              "      let quickchartButtonEl =\n",
              "        document.querySelector('#df-9f9fbeb4-4b6a-477f-b871-3e6c46dc43eb button');\n",
              "      quickchartButtonEl.style.display =\n",
              "        google.colab.kernel.accessAllowed ? 'block' : 'none';\n",
              "    })();\n",
              "  </script>\n",
              "</div>\n",
              "\n",
              "    </div>\n",
              "  </div>\n"
            ],
            "application/vnd.google.colaboratory.intrinsic+json": {
              "type": "dataframe",
              "variable_name": "df",
              "summary": "{\n  \"name\": \"df\",\n  \"rows\": 10849,\n  \"fields\": [\n    {\n      \"column\": \"server_ts\",\n      \"properties\": {\n        \"dtype\": \"object\",\n        \"num_unique_values\": 10848,\n        \"samples\": [\n          \"2014-03-17T00:44:16.330\",\n          \"2014-03-27T12:04:14.103\",\n          \"2014-03-26T09:17:50.474\"\n        ],\n        \"semantic_type\": \"\",\n        \"description\": \"\"\n      }\n    },\n    {\n      \"column\": \"client_ts\",\n      \"properties\": {\n        \"dtype\": \"object\",\n        \"num_unique_values\": 10846,\n        \"samples\": [\n          \"2014-03-17T02:10:49.365\",\n          \"2014-03-31T13:41:47.747\",\n          \"2014-03-26T09:18:31.599\"\n        ],\n        \"semantic_type\": \"\",\n        \"description\": \"\"\n      }\n    },\n    {\n      \"column\": \"client_addr\",\n      \"properties\": {\n        \"dtype\": \"category\",\n        \"num_unique_values\": 2386,\n        \"samples\": [\n          \"216.189.185.110\",\n          \"177.12.18.190\",\n          \"76.64.219.50\"\n        ],\n        \"semantic_type\": \"\",\n        \"description\": \"\"\n      }\n    },\n    {\n      \"column\": \"visitor_id\",\n      \"properties\": {\n        \"dtype\": \"category\",\n        \"num_unique_values\": 2537,\n        \"samples\": [\n          \"47ba4d61e2debff\",\n          \"00eb0221917bce0\",\n          \"1cdbab3145e46ff\"\n        ],\n        \"semantic_type\": \"\",\n        \"description\": \"\"\n      }\n    },\n    {\n      \"column\": \"session_id\",\n      \"properties\": {\n        \"dtype\": \"category\",\n        \"num_unique_values\": 3946,\n        \"samples\": [\n          \"8333518113a491d\",\n          \"eb219881decd3eb\",\n          \"111d80c1ad1d8a0\"\n        ],\n        \"semantic_type\": \"\",\n        \"description\": \"\"\n      }\n    },\n    {\n      \"column\": \"location\",\n      \"properties\": {\n        \"dtype\": \"category\",\n        \"num_unique_values\": 96,\n        \"samples\": [\n          \"http://dataiku.com/blog/2013/06/13/berlin-buzzwords-part-2-introducing-dataiku-flow-and-dctc.html\",\n          \"http://www.dataiku.com/blog/2012/07/01/visualizing-french-tax-data.html\",\n          \"http://dataiku.com/blog/2013/03/21/thomas-at-strata-part-2.html\"\n        ],\n        \"semantic_type\": \"\",\n        \"description\": \"\"\n      }\n    },\n    {\n      \"column\": \"referer\",\n      \"properties\": {\n        \"dtype\": \"category\",\n        \"num_unique_values\": 850,\n        \"samples\": [\n          \"http://www.google.co.zw/search?q=scientist+skill+set&btnG=Search\",\n          \"http://www.google.com/url?sa=t&rct=j&q=&esrc=s&source=web&cd=1&ved=0CCgQFjAA&url=http%3A%2F%2Fwww.dataiku.com%2F&ei=TcceU5jeNPOr0gW9h4CgDA&usg=AFQjCNFbYFPWucGq2yCvV--HTv_9VuvqQg&bvm=bv.62788935,d.d2k\",\n          \"http://www.google.fr/url?sa=t&rct=j&q=&esrc=s&source=web&cd=1&ved=0CC4QFjAA&url=http%3A%2F%2Fwww.dataiku.com%2F&ei=hdMUU5m7FKyv7AaSt4GoBQ&usg=AFQjCNFbYFPWucGq2yCvV--HTv_9VuvqQg&sig2=ZYMJxjmpDY9suvCXkBb9ng&bvm=bv.61965928,d.ZGU\"\n        ],\n        \"semantic_type\": \"\",\n        \"description\": \"\"\n      }\n    },\n    {\n      \"column\": \"user_agent\",\n      \"properties\": {\n        \"dtype\": \"category\",\n        \"num_unique_values\": 532,\n        \"samples\": [\n          \"Mozilla/5.0 (Macintosh; Intel Mac OS X 10_9_0) AppleWebKit/537.36 (KHTML, like Gecko) Chrome/31.0.1650.63 Safari/537.36\",\n          \"Mozilla/5.0 (Macintosh; Intel Mac OS X 10_9_2) AppleWebKit/537.36 (KHTML, like Gecko) Chrome/30.0.1599.101 Safari/537.36\",\n          \"Mozilla/5.0 (X11; Linux i686) AppleWebKit/537.31 (KHTML, like Gecko) Chrome/26.0.1410.63 Safari/537.31\"\n        ],\n        \"semantic_type\": \"\",\n        \"description\": \"\"\n      }\n    },\n    {\n      \"column\": \"type\",\n      \"properties\": {\n        \"dtype\": \"category\",\n        \"num_unique_values\": 1,\n        \"samples\": [\n          \"page\"\n        ],\n        \"semantic_type\": \"\",\n        \"description\": \"\"\n      }\n    },\n    {\n      \"column\": \"visitor_params\",\n      \"properties\": {\n        \"dtype\": \"number\",\n        \"std\": null,\n        \"min\": null,\n        \"max\": null,\n        \"num_unique_values\": 0,\n        \"samples\": [],\n        \"semantic_type\": \"\",\n        \"description\": \"\"\n      }\n    },\n    {\n      \"column\": \"session_params\",\n      \"properties\": {\n        \"dtype\": \"number\",\n        \"std\": null,\n        \"min\": null,\n        \"max\": null,\n        \"num_unique_values\": 0,\n        \"samples\": [],\n        \"semantic_type\": \"\",\n        \"description\": \"\"\n      }\n    },\n    {\n      \"column\": \"event_params\",\n      \"properties\": {\n        \"dtype\": \"number\",\n        \"std\": null,\n        \"min\": null,\n        \"max\": null,\n        \"num_unique_values\": 0,\n        \"samples\": [],\n        \"semantic_type\": \"\",\n        \"description\": \"\"\n      }\n    },\n    {\n      \"column\": \"br_width\",\n      \"properties\": {\n        \"dtype\": \"number\",\n        \"std\": 348,\n        \"min\": 0,\n        \"max\": 2560,\n        \"num_unique_values\": 586,\n        \"samples\": [],\n        \"semantic_type\": \"\",\n        \"description\": \"\"\n      }\n    },\n    {\n      \"column\": \"br_height\",\n      \"properties\": {\n        \"dtype\": \"number\",\n        \"std\": 178,\n        \"min\": 0,\n        \"max\": 3225,\n        \"num_unique_values\": 663,\n        \"samples\": [],\n        \"semantic_type\": \"\",\n        \"description\": \"\"\n      }\n    },\n    {\n      \"column\": \"sc_width\",\n      \"properties\": {\n        \"dtype\": \"number\",\n        \"std\": 391,\n        \"min\": 0,\n        \"max\": 3840,\n        \"num_unique_values\": 94,\n        \"samples\": [],\n        \"semantic_type\": \"\",\n        \"description\": \"\"\n      }\n    },\n    {\n      \"column\": \"sc_height\",\n      \"properties\": {\n        \"dtype\": \"number\",\n        \"std\": 176,\n        \"min\": 0,\n        \"max\": 2160,\n        \"num_unique_values\": 99,\n        \"samples\": [],\n        \"semantic_type\": \"\",\n        \"description\": \"\"\n      }\n    },\n    {\n      \"column\": \"br_lang\",\n      \"properties\": {\n        \"dtype\": \"category\",\n        \"num_unique_values\": 68,\n        \"samples\": [],\n        \"semantic_type\": \"\",\n        \"description\": \"\"\n      }\n    },\n    {\n      \"column\": \"tz_off\",\n      \"properties\": {\n        \"dtype\": \"number\",\n        \"std\": 183,\n        \"min\": -780,\n        \"max\": 720,\n        \"num_unique_values\": 25,\n        \"samples\": [],\n        \"semantic_type\": \"\",\n        \"description\": \"\"\n      }\n    }\n  ]\n}"
            }
          },
          "metadata": {},
          "execution_count": 3
        }
      ]
    },
    {
      "cell_type": "markdown",
      "source": [
        "### N.º de visitas → Número de visitas (sesiones que ha tenido el sitio web)"
      ],
      "metadata": {
        "id": "5fsiHjMU8aXx"
      }
    },
    {
      "cell_type": "markdown",
      "source": [
        "Para esta métrica obtengo las sesiones mediante el session_id y uso nunique() para obtener el número de sesiones únicas"
      ],
      "metadata": {
        "id": "j1PElO6ydMEL"
      }
    },
    {
      "cell_type": "code",
      "source": [
        "df[\"session_id\"].nunique()"
      ],
      "metadata": {
        "id": "iJQoNbIh8Wsx",
        "colab": {
          "base_uri": "https://localhost:8080/"
        },
        "outputId": "58eea95a-8c7b-4556-9794-58b1ee9255e2"
      },
      "execution_count": null,
      "outputs": [
        {
          "output_type": "execute_result",
          "data": {
            "text/plain": [
              "3946"
            ]
          },
          "metadata": {},
          "execution_count": 43
        }
      ]
    },
    {
      "cell_type": "markdown",
      "source": [
        "### N.º de visitantes únicos → Número de usuarios diferentes que han visitado el sitio web"
      ],
      "metadata": {
        "id": "8WxQoYGsC0NR"
      }
    },
    {
      "cell_type": "markdown",
      "source": [
        "Mismo caso que la anterior métrica, pero usando visitor_id esta vez."
      ],
      "metadata": {
        "id": "mFmCiL2WdktD"
      }
    },
    {
      "cell_type": "code",
      "source": [
        "df[\"visitor_id\"].nunique()"
      ],
      "metadata": {
        "colab": {
          "base_uri": "https://localhost:8080/"
        },
        "id": "gjtTLH-NCmf2",
        "outputId": "b51e6001-ceac-4622-a9a6-b9add5a4398d"
      },
      "execution_count": null,
      "outputs": [
        {
          "output_type": "execute_result",
          "data": {
            "text/plain": [
              "2537"
            ]
          },
          "metadata": {},
          "execution_count": 45
        }
      ]
    },
    {
      "cell_type": "markdown",
      "source": [
        "### N.º medio de páginas/visitas → Para cada visita (sesión) cuántas páginas se han visitado. Media para todas las visitas\n"
      ],
      "metadata": {
        "id": "JLWtLISpDcFh"
      }
    },
    {
      "cell_type": "markdown",
      "source": [
        "Esta vez es necesario primero agrupar las instancias por session_id y contar el número de páginas (location) posteriormente."
      ],
      "metadata": {
        "id": "CcJI2Lh1drOs"
      }
    },
    {
      "cell_type": "code",
      "source": [
        "df.groupby('session_id')['location'].count()"
      ],
      "metadata": {
        "colab": {
          "base_uri": "https://localhost:8080/",
          "height": 489
        },
        "id": "V-C3B5P2VsIi",
        "outputId": "b0b53543-84a8-4a76-9d45-78f3b3cbb4d8"
      },
      "execution_count": null,
      "outputs": [
        {
          "output_type": "execute_result",
          "data": {
            "text/plain": [
              "session_id\n",
              "0032636170691fd    1\n",
              "0039e021117bf7e    5\n",
              "003fe6c1d1b1611    3\n",
              "004b1b512040302    5\n",
              "00514d51973414f    1\n",
              "                  ..\n",
              "ffb49c91151a3dd    1\n",
              "ffcd1431036cfad    1\n",
              "ffdafef1de19a85    1\n",
              "ffe83b615395e15    3\n",
              "ffed1bc1cb7dd2b    2\n",
              "Name: location, Length: 3946, dtype: int64"
            ],
            "text/html": [
              "<div>\n",
              "<style scoped>\n",
              "    .dataframe tbody tr th:only-of-type {\n",
              "        vertical-align: middle;\n",
              "    }\n",
              "\n",
              "    .dataframe tbody tr th {\n",
              "        vertical-align: top;\n",
              "    }\n",
              "\n",
              "    .dataframe thead th {\n",
              "        text-align: right;\n",
              "    }\n",
              "</style>\n",
              "<table border=\"1\" class=\"dataframe\">\n",
              "  <thead>\n",
              "    <tr style=\"text-align: right;\">\n",
              "      <th></th>\n",
              "      <th>location</th>\n",
              "    </tr>\n",
              "    <tr>\n",
              "      <th>session_id</th>\n",
              "      <th></th>\n",
              "    </tr>\n",
              "  </thead>\n",
              "  <tbody>\n",
              "    <tr>\n",
              "      <th>0032636170691fd</th>\n",
              "      <td>1</td>\n",
              "    </tr>\n",
              "    <tr>\n",
              "      <th>0039e021117bf7e</th>\n",
              "      <td>5</td>\n",
              "    </tr>\n",
              "    <tr>\n",
              "      <th>003fe6c1d1b1611</th>\n",
              "      <td>3</td>\n",
              "    </tr>\n",
              "    <tr>\n",
              "      <th>004b1b512040302</th>\n",
              "      <td>5</td>\n",
              "    </tr>\n",
              "    <tr>\n",
              "      <th>00514d51973414f</th>\n",
              "      <td>1</td>\n",
              "    </tr>\n",
              "    <tr>\n",
              "      <th>...</th>\n",
              "      <td>...</td>\n",
              "    </tr>\n",
              "    <tr>\n",
              "      <th>ffb49c91151a3dd</th>\n",
              "      <td>1</td>\n",
              "    </tr>\n",
              "    <tr>\n",
              "      <th>ffcd1431036cfad</th>\n",
              "      <td>1</td>\n",
              "    </tr>\n",
              "    <tr>\n",
              "      <th>ffdafef1de19a85</th>\n",
              "      <td>1</td>\n",
              "    </tr>\n",
              "    <tr>\n",
              "      <th>ffe83b615395e15</th>\n",
              "      <td>3</td>\n",
              "    </tr>\n",
              "    <tr>\n",
              "      <th>ffed1bc1cb7dd2b</th>\n",
              "      <td>2</td>\n",
              "    </tr>\n",
              "  </tbody>\n",
              "</table>\n",
              "<p>3946 rows × 1 columns</p>\n",
              "</div><br><label><b>dtype:</b> int64</label>"
            ]
          },
          "metadata": {},
          "execution_count": 100
        }
      ]
    },
    {
      "cell_type": "markdown",
      "source": [
        "Podemos obtener cuantas páginas únicas se han visitado con nunique() o usar count() para simplemente contar cuantas páginas se han visitado sin importar que se haya visitado la misma varias veces."
      ],
      "metadata": {
        "id": "OwrnKW0Kd-Kv"
      }
    },
    {
      "cell_type": "code",
      "source": [
        "df.groupby('session_id')['location'].count().mean()"
      ],
      "metadata": {
        "colab": {
          "base_uri": "https://localhost:8080/"
        },
        "id": "hzi90A_3PZWi",
        "outputId": "0d777a68-e6d0-418d-926a-db51c2de548b"
      },
      "execution_count": null,
      "outputs": [
        {
          "output_type": "execute_result",
          "data": {
            "text/plain": [
              "2.749366447034972"
            ]
          },
          "metadata": {},
          "execution_count": 72
        }
      ]
    },
    {
      "cell_type": "code",
      "source": [
        "df.groupby('session_id')['location'].nunique().mean()"
      ],
      "metadata": {
        "colab": {
          "base_uri": "https://localhost:8080/"
        },
        "id": "TW8MHpGbDRPa",
        "outputId": "1b1944ca-6b95-477b-f553-0c291e6c6eef"
      },
      "execution_count": null,
      "outputs": [
        {
          "output_type": "execute_result",
          "data": {
            "text/plain": [
              "2.3193106943740496"
            ]
          },
          "metadata": {},
          "execution_count": 73
        }
      ]
    },
    {
      "cell_type": "markdown",
      "source": [
        "### Tasa de rebote → Número de visitas (sesiones) que solo han accedido a una página"
      ],
      "metadata": {
        "id": "AWy8XQ7GE8X5"
      }
    },
    {
      "cell_type": "markdown",
      "source": [
        "Pirmero repito el mismo proceso que anteriormente para obtener cuántas veces cada sesión accedió a una página distinta. Luego, identifico las visitas que solo accedieron a una página y calculo la tasa de rebote como la proporción de estas visitas respecto al total."
      ],
      "metadata": {
        "id": "emfzMEVPiflG"
      }
    },
    {
      "cell_type": "code",
      "source": [
        "visitas_unicas = df.groupby('session_id')['location'].nunique()\n",
        "visitas_unicas_1_pag = visitas_unicas[visitas_unicas == 1]\n",
        "print(f\"Número de visitas que solo han accedido a una página: {visitas_unicas_1_pag.size}\")\n",
        "tasa_rebote = len(visitas_unicas_1_pag) / len(visitas_unicas)\n",
        "\n",
        "print(f\"Tasa de rebote: {tasa_rebote:.2%}\")"
      ],
      "metadata": {
        "colab": {
          "base_uri": "https://localhost:8080/"
        },
        "id": "O1JyfSGLEkf3",
        "outputId": "f6c587d6-57a4-438a-da84-c0546402c1c9"
      },
      "execution_count": null,
      "outputs": [
        {
          "output_type": "stream",
          "name": "stdout",
          "text": [
            "Número de visitas que solo han accedido a una página: 2261\n",
            "Tasa de rebote: 57.30%\n"
          ]
        }
      ]
    },
    {
      "cell_type": "markdown",
      "source": [
        "### Tasa de salida para cada página → % de veces que cada página ha sido una página de salida\n"
      ],
      "metadata": {
        "id": "Kny3U3q-Fv_g"
      }
    },
    {
      "cell_type": "markdown",
      "source": [
        "Para esta métrica, agrupo las visitas por sesión para identificar la última página visitada. Luego, cuento cuántas veces cada página fue la última en una sesión y divido ese número por el total de visitas a cada página, obteniendo así el porcentaje de salidas."
      ],
      "metadata": {
        "id": "mlbe56KWi7sN"
      }
    },
    {
      "cell_type": "code",
      "source": [
        "ultima_pagina_sesion = df.groupby('session_id')['location'].last()\n",
        "pagina_salida = ultima_pagina_sesion.value_counts()\n",
        "tasa_salida = pagina_salida / df['location'].value_counts() * 100\n",
        "print(tasa_salida)"
      ],
      "metadata": {
        "colab": {
          "base_uri": "https://localhost:8080/"
        },
        "id": "1_fHC9ZHG20k",
        "outputId": "24e8e72d-f4e9-4b13-98df-aea2ea6b9ba9"
      },
      "execution_count": null,
      "outputs": [
        {
          "output_type": "stream",
          "name": "stdout",
          "text": [
            "location\n",
            "http://dataiku.com/                             44.887781\n",
            "http://dataiku.com/applications/                17.687075\n",
            "http://dataiku.com/applications/advertising/          NaN\n",
            "http://dataiku.com/applications/ecommerce/      29.166667\n",
            "http://dataiku.com/applications/freemium/       15.686275\n",
            "                                                  ...    \n",
            "http://www.dataiku.com/products/pricing/        29.652997\n",
            "http://www.dataiku.com/products/shaker/         20.198675\n",
            "http://www.dataiku.com/products/sharing/         8.695652\n",
            "http://www.dataiku.com/products/thankyou/       32.692308\n",
            "http://www.dataiku.com/products/trynow/         16.071429\n",
            "Name: count, Length: 96, dtype: float64\n"
          ]
        }
      ]
    },
    {
      "cell_type": "markdown",
      "source": [
        "### Tráfico directo → Número de visitas (sesiones) que provienen de escribir la url directamente\n",
        "\n",
        "### Tráfico de búsqueda → Número de visitas (sesiones) que provienen de pinchar en una búsqueda\n",
        "\n",
        "### Tráfico referido → Número de visitas (sesiones) que provienen de pinchar en un enlace de otra página"
      ],
      "metadata": {
        "id": "MrfE1-RANq_S"
      }
    },
    {
      "cell_type": "markdown",
      "source": [
        "Para estas métricas es necesario definir una lista de motores de búsqueda comunes. Luego, utilizo una función para clasificar cada visita como Directo, Búsqueda o Referido según el valor de la referencia (referer). Finalmente, cuento y muestro el número de visitas de cada tipo."
      ],
      "metadata": {
        "id": "PNstwWf4jGy3"
      }
    },
    {
      "cell_type": "code",
      "source": [
        "# Navegadores\n",
        "search_engines = [\n",
        "    \"google\", \"bing\", \"yahoo\", \"duckduckgo\", \"baidu\", \"yandex\"\n",
        "]\n",
        "\n",
        "# Clasificar el tráfico\n",
        "def classify_traffic(row):\n",
        "    referer = str(row[\"referer\"]).lower()\n",
        "    if pd.isna(row[\"referer\"]):\n",
        "        return \"Directo\"\n",
        "    elif any(engine in referer for engine in search_engines):\n",
        "        return \"Búsqueda\"\n",
        "    else:\n",
        "        return \"Referido\"\n",
        "\n",
        "\n",
        "df[\"trafico_tipo\"] = df.apply(classify_traffic, axis=1)\n",
        "trafico_contado = df[\"trafico_tipo\"].value_counts()\n",
        "\n",
        "print(\"Tráfico Directo:\", trafico_contado.get(\"Directo\", 0))\n",
        "print(\"Tráfico de Búsqueda:\", trafico_contado.get(\"Búsqueda\", 0))\n",
        "print(\"Tráfico Referido:\", trafico_contado.get(\"Referido\", 0))"
      ],
      "metadata": {
        "colab": {
          "base_uri": "https://localhost:8080/"
        },
        "id": "SVf3N4eJSusY",
        "outputId": "4c2bf113-271a-45b9-efb5-416094355d79"
      },
      "execution_count": null,
      "outputs": [
        {
          "output_type": "stream",
          "name": "stdout",
          "text": [
            "Tráfico Directo: 1226\n",
            "Tráfico de Búsqueda: 1605\n",
            "Tráfico Referido: 8018\n"
          ]
        }
      ]
    }
  ]
}