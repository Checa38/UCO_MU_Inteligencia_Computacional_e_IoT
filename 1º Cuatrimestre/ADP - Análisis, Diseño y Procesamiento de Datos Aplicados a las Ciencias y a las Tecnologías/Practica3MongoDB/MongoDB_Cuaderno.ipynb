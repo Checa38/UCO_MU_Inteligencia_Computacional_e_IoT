{
 "cells": [
  {
   "cell_type": "markdown",
   "metadata": {},
   "source": [
    "## Ejercicio 2"
   ]
  },
  {
   "cell_type": "code",
   "execution_count": null,
   "metadata": {},
   "outputs": [
    {
     "name": "stdout",
     "output_type": "stream",
     "text": [
      "Conexión a MongoDB exitosa.\n",
      "Países con los que se interactúa: [0, 1, 7, 20, 27, 30, 31, 32, 33, 34, 36, 39, 40, 41, 43, 44, 45, 46, 47, 48, 49, 51, 52, 53, 54, 55, 56, 57, 58, 60, 61, 62, 63, 64, 65, 66, 81, 82, 84, 86, 90, 91, 92, 93, 94, 95, 98, 211, 212, 213, 216, 218, 220, 221, 222, 223, 224, 225, 226, 227, 228, 229, 230, 231, 232, 233, 234, 235, 236, 237, 238, 239, 240, 241, 242, 243, 244, 245, 247, 248, 249, 250, 251, 252, 253, 254, 255, 256, 257, 258, 260, 261, 262, 263, 264, 265, 267, 291, 297, 298, 299, 350, 351, 352, 353, 354, 355, 356, 357, 358, 359, 370, 371, 372, 373, 374, 375, 376, 377, 378, 380, 381, 382, 385, 386, 387, 389, 420, 421, 423, 500, 501, 502, 503, 504, 505, 506, 507, 508, 509, 590, 591, 592, 593, 594, 595, 596, 597, 598, 599, 670, 672, 673, 675, 676, 677, 678, 679, 680, 681, 685, 686, 687, 689, 690, 852, 853, 855, 856, 870, 880, 881, 886, 960, 961, 962, 963, 964, 965, 966, 967, 968, 970, 971, 972, 973, 974, 975, 976, 977, 992, 993, 994, 995, 996, 998, 1204, 1214, 1226, 1242, 1246, 1250, 1268, 1289, 1306, 1340, 1345, 1403, 1416, 1418, 1438, 1450, 1473, 1506, 1514, 1519, 1579, 1587, 1604, 1613, 1647, 1649, 1670, 1671, 1684, 1705, 1709, 1721, 1758, 1767, 1778, 1780, 1784, 1787, 1807, 1808, 1809, 1819, 1829, 1849, 1902, 1905, 1907, 1924, 1927, 1929, 1939, 7700, 7701, 7702, 7705, 7707, 7711, 7712, 7713, 7714, 7717, 7725, 7726, 7727, 7728, 7771, 7775, 7776, 7777, 7778, 8816, 12684, 12687, 14413, 14415, 18092, 18093, 18094, 18096, 18097, 18098, 18099, 18682, 18683, 18684, 18762, 18763, 18764, 18765, 18768, 18769, 29774, 50931, 50936, 50937, 50938, 50947, 88216, 88232, 88239, 97259]\n"
     ]
    }
   ],
   "source": [
    "from pymongo import MongoClient\n",
    "\n",
    "cliente = MongoClient(\"mongodb://localhost:27017/\")\n",
    "db = cliente[\"Milan_CDR_db\"]\n",
    "coleccion = db[\"Milan_CDR_c\"]\n",
    "\n",
    "pipeline = [\n",
    "    {\"$group\": {\"_id\": \"$Country_code\"}},\n",
    "]\n",
    "\n",
    "diff_countries = coleccion.aggregate(pipeline)\n",
    "diff_countries = [doc['_id'] for doc in diff_countries]\n",
    "\n",
    "diff_countries = sorted(diff_countries)  \n",
    "\n",
    "print(\"Países con los que se interactúa:\", diff_countries)"
   ]
  },
  {
   "cell_type": "markdown",
   "metadata": {},
   "source": [
    "## Ejercicio 3"
   ]
  },
  {
   "cell_type": "code",
   "execution_count": 4,
   "metadata": {},
   "outputs": [
    {
     "name": "stdout",
     "output_type": "stream",
     "text": [
      "49\n"
     ]
    }
   ],
   "source": [
    "# Italia = 39\n",
    "# Llamadas internas = 0\n",
    "codes_excluded = [39, 0]\n",
    "\n",
    "cliente = MongoClient(\"mongodb://localhost:27017/\")\n",
    "db = cliente[\"Milan_CDR_db\"]\n",
    "coleccion = db[\"Milan_CDR_c\"]\n",
    "\n",
    "pipeline_ej3 = [\n",
    "    {\"$match\": {\"Country_code\": {\"$nin\": codes_excluded}}},\n",
    "    {\"$group\": {\"_id\": \"$Country_code\", \"count\": {\"$sum\": 1}}},\n",
    "    {\"$sort\": {\"count\": -1}},\n",
    "    {\"$limit\": 1}\n",
    "]\n",
    "\n",
    "\n",
    "print(list(coleccion.aggregate(pipeline_ej3))[0]['_id'])"
   ]
  },
  {
   "cell_type": "markdown",
   "metadata": {},
   "source": [
    "## Ejercicio 4"
   ]
  },
  {
   "cell_type": "code",
   "execution_count": 5,
   "metadata": {},
   "outputs": [
    {
     "name": "stdout",
     "output_type": "stream",
     "text": [
      "6165\n"
     ]
    }
   ],
   "source": [
    "from bson.son import SON\n",
    "from pymongo import MongoClient\n",
    "cliente = MongoClient(\"mongodb://localhost:27017/\")\n",
    "db = cliente[\"Milan_CDR_db\"]\n",
    "coleccion = db[\"Milan_CDR_c\"]\n",
    "\n",
    "codes_excluded = [39, 0]\n",
    "\n",
    "pipeline_ej4 = [\n",
    "    {\"$match\": {\"Country_code\": {\"$nin\": codes_excluded}}},\n",
    "    {\"$group\": {\"_id\": \"$Square_id\", \"count\": {\"$sum\": 1}}},\n",
    "    {\"$sort\": SON([(\"count\", -1)])},\n",
    "    {\"$limit\": 1}\n",
    "]\n",
    "\n",
    "print(list(coleccion.aggregate(pipeline_ej4))[0]['_id'])"
   ]
  },
  {
   "cell_type": "markdown",
   "metadata": {},
   "source": [
    "## Ejercicio 5"
   ]
  },
  {
   "cell_type": "code",
   "execution_count": 6,
   "metadata": {},
   "outputs": [
    {
     "name": "stdout",
     "output_type": "stream",
     "text": [
      "SMS-in_activity: 5161\n",
      "SMS-out_activity: 5059\n",
      "Call-in_activity: 5161\n",
      "Call-out_activity: 5059\n",
      "Internet_traffic_activity: 5161\n",
      "Actividad total: 5161\n"
     ]
    }
   ],
   "source": [
    "cliente = MongoClient(\"mongodb://localhost:27017/\")\n",
    "db = cliente[\"Milan_CDR_db\"]\n",
    "coleccion = db[\"Milan_CDR_c\"]\n",
    "\n",
    "#-------- SMS-in_activity --------\n",
    "pipeline_SMS_in_activity = [\n",
    "    {\"$group\": {\"_id\": \"$Square_id\", \"total_SMS-in_activity\": {\"$sum\": \"$SMS-in_activity\"}}},\n",
    "    {\"$sort\": {\"total_SMS-in_activity\": -1}},\n",
    "    {\"$limit\": 1}\n",
    "]\n",
    "\n",
    "most_active_SMS_in_activity_cell = coleccion.aggregate(pipeline_SMS_in_activity)\n",
    "most_active_SMS_in_activity_cell = list(most_active_SMS_in_activity_cell)[0]['_id']\n",
    "\n",
    "#-------- SMS-out_activity --------\n",
    "pipeline_SMS_out_activity = [\n",
    "    {\"$group\": {\"_id\": \"$Square_id\", \"total_SMS-out_activity\": {\"$sum\": \"$SMS-out_activity\"}}},\n",
    "    {\"$sort\": {\"total_SMS-out_activity\": -1}},\n",
    "    {\"$limit\": 1}\n",
    "]\n",
    "\n",
    "most_active_SMS_out_activity_cell = coleccion.aggregate(pipeline_SMS_out_activity)\n",
    "most_active_SMS_out_activity_cell = list(most_active_SMS_out_activity_cell)[0]['_id']\n",
    "\n",
    "#-------- Call-in_activity --------\n",
    "pipeline_Call_in_activity = [\n",
    "    {\"$group\": {\"_id\": \"$Square_id\", \"total_Call-in_activity\": {\"$sum\": \"$Call-in_activity\"}}},\n",
    "    {\"$sort\": {\"total_Call-in_activity\": -1}},\n",
    "    {\"$limit\": 1}\n",
    "]\n",
    "\n",
    "most_active_Call_in_activity_cell = coleccion.aggregate(pipeline_Call_in_activity)\n",
    "most_active_Call_in_activity_cell = list(most_active_Call_in_activity_cell)[0]['_id']\n",
    "\n",
    "#-------- Call-out_activity --------\n",
    "pipeline_Call_out_activity = [\n",
    "    {\"$group\": {\"_id\": \"$Square_id\", \"total_Call-out_activity\": {\"$sum\": \"$Call-out_activity\"}}},\n",
    "    {\"$sort\": {\"total_Call-out_activity\": -1}},\n",
    "    {\"$limit\": 1}\n",
    "]\n",
    "\n",
    "most_active_Call_out_activity_cell = coleccion.aggregate(pipeline_Call_out_activity)\n",
    "most_active_Call_out_activity_cell = list(most_active_Call_out_activity_cell)[0]['_id']\n",
    "\n",
    "#-------- Internet_traffic_activity --------\n",
    "pipeline_Internet_traffic_activity = [\n",
    "    {\"$group\": {\"_id\": \"$Square_id\", \"total_Internet_traffic_activity\": {\"$sum\": \"$Internet_traffic_activity\"}}},\n",
    "    {\"$sort\": {\"total_Internet_traffic_activity\": -1}},\n",
    "    {\"$limit\": 1}\n",
    "]\n",
    "\n",
    "most_active_Internet_traffic_activity_cell = coleccion.aggregate(pipeline_Internet_traffic_activity)\n",
    "most_active_Internet_traffic_activity_cell = list(most_active_Internet_traffic_activity_cell)[0]['_id']\n",
    "\n",
    "#-------- Actividad total --------\n",
    "pipeline_total_activity = [\n",
    "    {\"$group\": {\n",
    "        \"_id\": \"$Square_id\",\n",
    "        \"total_activity\": {\"$sum\": {\"$sum\": [\"$SMS-in_activity\", \"$SMS-out_activity\", \"$Call-in_activity\", \"$Call-out_activity\", \"$Internet_traffic_activity\"]}}\n",
    "    }},\n",
    "    {\"$sort\": {\"total_activity\": -1}},\n",
    "    {\"$limit\": 1}\n",
    "]\n",
    "\n",
    "most_active_total_cell = coleccion.aggregate(pipeline_total_activity)\n",
    "most_active_total_cell = list(most_active_total_cell)[0]['_id']\n",
    "\n",
    "#-------- Resultados --------\n",
    "print(\"SMS-in_activity:\", most_active_SMS_in_activity_cell)\n",
    "print(\"SMS-out_activity:\", most_active_SMS_out_activity_cell)\n",
    "print(\"Call-in_activity:\", most_active_Call_in_activity_cell)\n",
    "print(\"Call-out_activity:\", most_active_Call_out_activity_cell)\n",
    "print(\"Internet_traffic_activity:\", most_active_Internet_traffic_activity_cell)\n",
    "print(\"Actividad total:\", most_active_total_cell)"
   ]
  },
  {
   "cell_type": "markdown",
   "metadata": {},
   "source": [
    "## Ejercicio 6"
   ]
  },
  {
   "cell_type": "code",
   "execution_count": 7,
   "metadata": {},
   "outputs": [
    {
     "data": {
      "text/plain": [
       "<pymongo.synchronous.command_cursor.CommandCursor at 0x26f501c9a30>"
      ]
     },
     "execution_count": 7,
     "metadata": {},
     "output_type": "execute_result"
    }
   ],
   "source": [
    "cliente = MongoClient(\"mongodb://localhost:27017/\")\n",
    "db = cliente[\"Milan_CDR_db\"]\n",
    "colleccion = db[\"Milan_CDR_c\"]\n",
    "\n",
    "pipeline_accumulated_by_cell = [\n",
    "    {\"$group\": {\"_id\": \"$Square_id\",\n",
    "                \"total_SMS-in_activity\": {\"$sum\": \"$SMS-in_activity\"},\n",
    "                \"total_SMS-out_activity\": {\"$sum\": \"$SMS-out_activity\"},\n",
    "                \"total_Call-in_activity\": {\"$sum\": \"$Call-in_activity\"},\n",
    "                \"total_Call-out_activity\": {\"$sum\": \"$Call-out_activity\"},\n",
    "                \"total_Internet_traffic_activity\": {\"$sum\": \"$Internet_traffic_activity\"}}},\n",
    "    {\"$out\": \"accumulated_by_cell\"}\n",
    "]\n",
    "\n",
    "colleccion.aggregate(pipeline_accumulated_by_cell)"
   ]
  },
  {
   "cell_type": "markdown",
   "metadata": {},
   "source": [
    "## Ejercicio 7"
   ]
  },
  {
   "cell_type": "code",
   "execution_count": 8,
   "metadata": {},
   "outputs": [
    {
     "data": {
      "text/plain": [
       "<pymongo.synchronous.command_cursor.CommandCursor at 0x26f4fac9160>"
      ]
     },
     "execution_count": 8,
     "metadata": {},
     "output_type": "execute_result"
    }
   ],
   "source": [
    "cliente = MongoClient(\"mongodb://localhost:27017/\")\n",
    "db = cliente[\"Milan_CDR_db\"]\n",
    "coleccion = db[\"Milan_CDR_c\"]\n",
    "\n",
    "pipeline_ej7 = [\n",
    "    {\"$group\": {\"_id\": {\"Square_id\": \"$Square_id\", \"hour\": {\"$hour\": {\"$toDate\": \"$time\"}}},\n",
    "                \"total_SMS-in_activity\": {\"$sum\": \"$SMS-in_activity\"},\n",
    "                \"total_SMS-out_activity\": {\"$sum\": \"$SMS-out_activity\"},\n",
    "                \"total_Call-in_activity\": {\"$sum\": \"$Call-in_activity\"},\n",
    "                \"total_Call-out_activity\": {\"$sum\": \"$Call-out_activity\"},\n",
    "                \"total_Internet_traffic_activity\": {\"$sum\": \"$Internet_traffic_activity\"}}},\n",
    "    {\"$out\": \"accumulated_cell_and_hour\"}\n",
    "]\n",
    "\n",
    "coleccion.aggregate(pipeline_ej7)"
   ]
  },
  {
   "cell_type": "markdown",
   "metadata": {},
   "source": [
    "## Ejercicio 8. Realiza un estudio de las celdas 4259 (Bocconi), 4456 (Navigli), 5060 (Duomo), 1419 (terreno agricula), 2436 (área industrial), 4990 (aeropuerto de Linate), 945 (residencial aislado) y 5048 (residencial céntrico)."
   ]
  },
  {
   "cell_type": "code",
   "execution_count": null,
   "metadata": {},
   "outputs": [],
   "source": []
  }
 ],
 "metadata": {
  "kernelspec": {
   "display_name": "Python 3",
   "language": "python",
   "name": "python3"
  },
  "language_info": {
   "codemirror_mode": {
    "name": "ipython",
    "version": 3
   },
   "file_extension": ".py",
   "mimetype": "text/x-python",
   "name": "python",
   "nbconvert_exporter": "python",
   "pygments_lexer": "ipython3",
   "version": "3.12.3"
  }
 },
 "nbformat": 4,
 "nbformat_minor": 2
}
