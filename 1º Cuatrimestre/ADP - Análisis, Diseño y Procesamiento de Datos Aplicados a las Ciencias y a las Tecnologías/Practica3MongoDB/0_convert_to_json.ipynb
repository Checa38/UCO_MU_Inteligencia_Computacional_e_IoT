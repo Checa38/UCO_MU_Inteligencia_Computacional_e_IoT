{
 "cells": [
  {
   "cell_type": "code",
   "execution_count": 1,
   "metadata": {},
   "outputs": [],
   "source": [
    "import os\n",
    "\n",
    "import numpy as np\n",
    "import csv\n",
    "import json"
   ]
  },
  {
   "cell_type": "code",
   "execution_count": 4,
   "metadata": {},
   "outputs": [],
   "source": [
    "INPUT_PATH = \"C:/Users/carlo/Desktop/Carlos/MasterLocal/ADPLocal/TXTS/\""
   ]
  },
  {
   "cell_type": "code",
   "execution_count": 5,
   "metadata": {},
   "outputs": [
    {
     "name": "stdout",
     "output_type": "stream",
     "text": [
      "Se ha creado el archivo CSV: C:/Users/carlo/Desktop/Carlos/MasterLocal/ADPLocal/TXTS/sms-call-internet-mi-2013-12-23.csv\n",
      "Se ha creado el archivo CSV: C:/Users/carlo/Desktop/Carlos/MasterLocal/ADPLocal/TXTS/sms-call-internet-mi-2013-12-24.csv\n",
      "Se ha creado el archivo CSV: C:/Users/carlo/Desktop/Carlos/MasterLocal/ADPLocal/TXTS/sms-call-internet-mi-2013-12-25.csv\n",
      "Se ha creado el archivo CSV: C:/Users/carlo/Desktop/Carlos/MasterLocal/ADPLocal/TXTS/sms-call-internet-mi-2013-12-26.csv\n",
      "Se ha creado el archivo CSV: C:/Users/carlo/Desktop/Carlos/MasterLocal/ADPLocal/TXTS/sms-call-internet-mi-2013-12-27.csv\n",
      "Se ha creado el archivo CSV: C:/Users/carlo/Desktop/Carlos/MasterLocal/ADPLocal/TXTS/sms-call-internet-mi-2013-12-28.csv\n",
      "Se ha creado el archivo CSV: C:/Users/carlo/Desktop/Carlos/MasterLocal/ADPLocal/TXTS/sms-call-internet-mi-2013-12-29.csv\n"
     ]
    }
   ],
   "source": [
    "for file in os.listdir(INPUT_PATH):\n",
    "    input_file_path = INPUT_PATH + file\n",
    "    output_file_path = input_file_path.replace(\"TXTs\",\"CSVs\")\n",
    "    output_file_path = output_file_path.replace(\".txt\",\".csv\")\n",
    "\n",
    "    with open(input_file_path, 'r') as input_file, open(output_file_path, 'w', newline='') as output_file:\n",
    "        # Configurar el lector de tabulaciones\n",
    "        reader = csv.reader(input_file, delimiter='\\t')\n",
    "        \n",
    "        # Configurar el escritor CSV\n",
    "        writer = csv.writer(output_file, delimiter=',')\n",
    "        \n",
    "        # Iterar sobre las filas del archivo de entrada\n",
    "        for row in reader:\n",
    "            # Eliminar elementos vacíos\n",
    "            cleaned_row = [element if element else 'null' for element in row]\n",
    "            \n",
    "            # Escribir la fila en el archivo CSV\n",
    "            writer.writerow(cleaned_row)\n",
    "\n",
    "    print(f'Se ha creado el archivo CSV: {output_file_path}')"
   ]
  },
  {
   "cell_type": "code",
   "execution_count": 6,
   "metadata": {},
   "outputs": [],
   "source": [
    "INPUT_PATH = \"C:/Users/carlo/Desktop/Carlos/MasterLocal/ADPLocal/CSVs/\""
   ]
  },
  {
   "cell_type": "code",
   "execution_count": null,
   "metadata": {},
   "outputs": [
    {
     "name": "stdout",
     "output_type": "stream",
     "text": [
      "Se ha creado el archivo JSON: C:/Users/carlo/Desktop/Carlos/MasterLocal/ADPLocal/JSONs/sms-call-internet-mi-2013-12-23.json\n",
      "Se ha creado el archivo JSON: C:/Users/carlo/Desktop/Carlos/MasterLocal/ADPLocal/JSONs/sms-call-internet-mi-2013-12-24.json\n",
      "Se ha creado el archivo JSON: C:/Users/carlo/Desktop/Carlos/MasterLocal/ADPLocal/JSONs/sms-call-internet-mi-2013-12-25.json\n",
      "Se ha creado el archivo JSON: C:/Users/carlo/Desktop/Carlos/MasterLocal/ADPLocal/JSONs/sms-call-internet-mi-2013-12-26.json\n",
      "Se ha creado el archivo JSON: C:/Users/carlo/Desktop/Carlos/MasterLocal/ADPLocal/JSONs/sms-call-internet-mi-2013-12-27.json\n",
      "Se ha creado el archivo JSON: C:/Users/carlo/Desktop/Carlos/MasterLocal/ADPLocal/JSONs/sms-call-internet-mi-2013-12-28.json\n",
      "Se ha creado el archivo JSON: C:/Users/carlo/Desktop/Carlos/MasterLocal/ADPLocal/JSONs/sms-call-internet-mi-2013-12-29.json\n"
     ]
    }
   ],
   "source": [
    "for file in os.listdir(INPUT_PATH):\n",
    "    input_file_path = INPUT_PATH + file\n",
    "    output_file_path = input_file_path.replace(\"CSVs\",\"JSONs\")\n",
    "    output_file_path = output_file_path.replace(\".csv\",\".json\")\n",
    "    data = []\n",
    "\n",
    "    with open(input_file_path, 'r') as csv_file:\n",
    "        csv_reader = csv.DictReader(csv_file)\n",
    "        \n",
    "        for row in csv_reader:\n",
    "            # Convertir los valores numéricos a float\n",
    "            for key, value in row.items():\n",
    "                if value.replace('.', '', 1).isdigit():  # Verificar si es un número\n",
    "                    if key == \"Time_Interval\" or key == \"Country_code\" or key == \"Square_id\":\n",
    "                        row[key] = int(value)\n",
    "                    else:\n",
    "                        row[key] = float(value)\n",
    "                \n",
    "            \n",
    "            data.append(row)\n",
    "\n",
    "    # Escribir el archivo JSON\n",
    "    with open(output_file_path, 'w') as json_file:\n",
    "        json.dump(data, json_file, indent=2)\n",
    "\n",
    "    print(f'Se ha creado el archivo JSON: {output_file_path}')"
   ]
  }
 ],
 "metadata": {
  "kernelspec": {
   "display_name": "Python 3",
   "language": "python",
   "name": "python3"
  },
  "language_info": {
   "codemirror_mode": {
    "name": "ipython",
    "version": 3
   },
   "file_extension": ".py",
   "mimetype": "text/x-python",
   "name": "python",
   "nbconvert_exporter": "python",
   "pygments_lexer": "ipython3",
   "version": "3.12.3"
  }
 },
 "nbformat": 4,
 "nbformat_minor": 2
}
