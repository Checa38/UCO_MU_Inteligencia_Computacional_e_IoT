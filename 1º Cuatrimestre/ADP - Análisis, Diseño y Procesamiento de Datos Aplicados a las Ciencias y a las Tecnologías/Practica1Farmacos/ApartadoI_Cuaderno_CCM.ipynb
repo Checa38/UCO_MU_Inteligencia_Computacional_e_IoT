{
 "cells": [
  {
   "cell_type": "markdown",
   "metadata": {},
   "source": [
    "# FASE 1: SOLUCIÓN NOSQL MONGODB"
   ]
  },
  {
   "cell_type": "markdown",
   "metadata": {},
   "source": [
    "Creo organizaciones"
   ]
  },
  {
   "cell_type": "code",
   "execution_count": null,
   "metadata": {},
   "outputs": [],
   "source": [
    "from pymongo import MongoClient\n",
    "\n",
    "cliente = MongoClient(\"mongodb://localhost:27017/\")\n",
    "db = cliente[\"Organizacion\"]\n",
    "colecciones = [\"DEPT\", \"EMP\"]\n",
    "\n",
    "for coleccion in colecciones:\n",
    "    db.create_collection(coleccion)"
   ]
  },
  {
   "cell_type": "markdown",
   "metadata": {},
   "source": [
    "Carga de información"
   ]
  },
  {
   "cell_type": "code",
   "execution_count": 4,
   "metadata": {},
   "outputs": [
    {
     "data": {
      "text/plain": [
       "InsertManyResult([ObjectId('67ce074ae41789f80e22b521'), ObjectId('67ce074ae41789f80e22b522'), ObjectId('67ce074ae41789f80e22b523'), ObjectId('67ce074ae41789f80e22b524'), ObjectId('67ce074ae41789f80e22b525'), ObjectId('67ce074ae41789f80e22b526')], acknowledged=True)"
      ]
     },
     "execution_count": 4,
     "metadata": {},
     "output_type": "execute_result"
    }
   ],
   "source": [
    "from pymongo import MongoClient\n",
    "from bson.objectid import ObjectId\n",
    "from datetime import datetime\n",
    "\n",
    "# Conexión a MongoDB\n",
    "cliente = MongoClient(\"mongodb://localhost:27017/\")\n",
    "db = cliente[\"Organizacion\"]\n",
    "\n",
    "db.DEPT.insert_many([\n",
    "    {\"_id\": ObjectId(), \"DEPTNO\": 10, \"DNAME\": \"Contabilidad\", \"LOC\": \"New York\", \"MANAGER\": 7839},\n",
    "    {\"_id\": ObjectId(), \"DEPTNO\": 20, \"DNAME\": \"Investigación\", \"LOC\": \"Dallas\", \"MANAGER\": 7566},\n",
    "    {\"_id\": ObjectId(), \"DEPTNO\": 30, \"DNAME\": \"Ventas\", \"LOC\": \"Chicago\", \"MANAGER\": 7698},\n",
    "    {\"_id\": ObjectId(), \"DEPTNO\": 40, \"DNAME\": \"Operaciones\", \"LOC\": \"Boston\", \"MANAGER\": 7782},\n",
    "    {\"_id\": ObjectId(), \"DEPTNO\": 50, \"DNAME\": \"Recursos Humanos\", \"LOC\": \"Seattle\", \"MANAGER\": 7902},\n",
    "    {\"_id\": ObjectId(), \"DEPTNO\": 60, \"DNAME\": \"Legal\", \"LOC\": \"San Francisco\", \"MANAGER\": 7654},\n",
    "    {\"_id\": ObjectId(), \"DEPTNO\": 70, \"DNAME\": \"Marketing\", \"LOC\": \"Los Angeles\", \"MANAGER\": 7499},\n",
    "    {\"_id\": ObjectId(), \"DEPTNO\": 80, \"DNAME\": \"IT\", \"LOC\": \"Miami\", \"MANAGER\": 7788},\n",
    "    {\"_id\": ObjectId(), \"DEPTNO\": 90, \"DNAME\": \"Producción\", \"LOC\": \"Denver\", \"MANAGER\": 7521},\n",
    "    {\"_id\": ObjectId(), \"DEPTNO\": 100, \"DNAME\": \"Compras\", \"LOC\": \"Houston\", \"MANAGER\": 7844},\n",
    "    {\"_id\": ObjectId(), \"DEPTNO\": 110, \"DNAME\": \"Calidad\", \"LOC\": \"Austin\", \"MANAGER\": 7934},\n",
    "    {\"_id\": ObjectId(), \"DEPTNO\": 120, \"DNAME\": \"Logística\", \"LOC\": \"Phoenix\", \"MANAGER\": 7900},\n",
    "    {\"_id\": ObjectId(), \"DEPTNO\": 130, \"DNAME\": \"Relaciones Públicas\", \"LOC\": \"Las Vegas\", \"MANAGER\": 7782},\n",
    "    {\"_id\": ObjectId(), \"DEPTNO\": 140, \"DNAME\": \"Desarrollo\", \"LOC\": \"San Diego\", \"MANAGER\": 7839},\n",
    "    {\"_id\": ObjectId(), \"DEPTNO\": 150, \"DNAME\": \"Soporte\", \"LOC\": \"Philadelphia\", \"MANAGER\": 7566},\n",
    "    {\"_id\": ObjectId(), \"DEPTNO\": 160, \"DNAME\": \"Finanzas\", \"LOC\": \"Portland\", \"MANAGER\": 7698},\n",
    "    {\"_id\": ObjectId(), \"DEPTNO\": 170, \"DNAME\": \"Proyectos\", \"LOC\": \"Detroit\", \"MANAGER\": 7782},\n",
    "    {\"_id\": ObjectId(), \"DEPTNO\": 180, \"DNAME\": \"Ingeniería\", \"LOC\": \"Columbus\", \"MANAGER\": 7839},\n",
    "    {\"_id\": ObjectId(), \"DEPTNO\": 190, \"DNAME\": \"Seguridad\", \"LOC\": \"Charlotte\", \"MANAGER\": 7566},\n",
    "    {\"_id\": ObjectId(), \"DEPTNO\": 200, \"DNAME\": \"Investigación y Desarrollo\", \"LOC\": \"Indianapolis\", \"MANAGER\": 7698}\n",
    "])\n",
    "\n",
    "db.EMP.insert_many([\n",
    "    {\"_id\": ObjectId(), \"EMPNO\": 7839, \"ENAME\": \"Rey\", \"JOB\": \"Presidente\", \"HIREDATE\": datetime(2020, 6, 9), \"SAL\": 5000, \"COMM\": None, \"DEPTNO\": 10, \"ISJEFE\": True, \"JEFE\": None},\n",
    "    {\"_id\": ObjectId(), \"EMPNO\": 7566, \"ENAME\": \"Martinez\", \"JOB\": \"Gerente\", \"HIREDATE\": datetime(2021, 5, 19), \"SAL\": 3500, \"COMM\": None, \"DEPTNO\": 20, \"ISJEFE\": True, \"JEFE\": 7839},\n",
    "    {\"_id\": ObjectId(), \"EMPNO\": 7698, \"ENAME\": \"Gomez\", \"JOB\": \"Gerente\", \"HIREDATE\": datetime(2022, 3, 15), \"SAL\": 3200, \"COMM\": None, \"DEPTNO\": 30, \"ISJEFE\": True, \"JEFE\": 7839},\n",
    "    {\"_id\": ObjectId(), \"EMPNO\": 7782, \"ENAME\": \"Perez\", \"JOB\": \"Gerente\", \"HIREDATE\": datetime(2022, 8, 5), \"SAL\": 3100, \"COMM\": None, \"DEPTNO\": 40, \"ISJEFE\": True, \"JEFE\": 7839},\n",
    "    {\"_id\": ObjectId(), \"EMPNO\": 7844, \"ENAME\": \"Lopez\", \"JOB\": \"Vendedor\", \"HIREDATE\": datetime(2023, 1, 20), \"SAL\": 1500, \"COMM\": 300, \"DEPTNO\": 30, \"ISJEFE\": False, \"JEFE\": 7698},\n",
    "    {\"_id\": ObjectId(), \"EMPNO\": 7876, \"ENAME\": \"Rodriguez\", \"JOB\": \"Analista\", \"HIREDATE\": datetime(2023, 4, 10), \"SAL\": 2800, \"COMM\": None, \"DEPTNO\": 20, \"ISJEFE\": False, \"JEFE\": 7566}\n",
    "])\n"
   ]
  },
  {
   "cell_type": "markdown",
   "metadata": {},
   "source": [
    "### 1.3.3.1\tConsulta 1: Número empleados"
   ]
  },
  {
   "cell_type": "code",
   "execution_count": null,
   "metadata": {},
   "outputs": [
    {
     "name": "stdout",
     "output_type": "stream",
     "text": [
      "El departamento con más empleados es: 20 con 2 empleados.\n"
     ]
    }
   ],
   "source": [
    "pipeline = [\n",
    "    {\"$group\": {\"_id\": \"$DEPTNO\", \"total_empleados\": {\"$sum\": 1}}},\n",
    "    {\"$sort\": {\"total_empleados\": -1}},\n",
    "    {\"$limit\": 1}\n",
    "]\n",
    "\n",
    "resultado = list(db.EMP.aggregate(pipeline))\n",
    "print(f\"El departamento con más empleados es: {resultado[0]['_id']} con {resultado[0]['total_empleados']} empleados.\")\n"
   ]
  },
  {
   "cell_type": "markdown",
   "metadata": {},
   "source": [
    "### 1.3.3.2\tConsulta 2: Salario máximo"
   ]
  },
  {
   "cell_type": "code",
   "execution_count": null,
   "metadata": {},
   "outputs": [
    {
     "name": "stdout",
     "output_type": "stream",
     "text": [
      "El empleado con el salario más alto es Rey con un salario de 5000.\n"
     ]
    }
   ],
   "source": [
    "pipeline = [\n",
    "    {\"$sort\": {\"SAL\": -1}}, \n",
    "    {\"$limit\": 1}  \n",
    "]\n",
    "\n",
    "resultado = list(db.EMP.aggregate(pipeline))\n",
    "if resultado:\n",
    "    empleado = resultado[0]\n",
    "    print(f\"El empleado con el salario más alto es {empleado['ENAME']} con un salario de {empleado['SAL']}.\")\n",
    "\n"
   ]
  },
  {
   "cell_type": "markdown",
   "metadata": {},
   "source": [
    "### 1.3.3.3\tConsulta 3: Número empleados por departamentos"
   ]
  },
  {
   "cell_type": "code",
   "execution_count": null,
   "metadata": {},
   "outputs": [
    {
     "name": "stdout",
     "output_type": "stream",
     "text": [
      "Número de empleados por departamento:\n",
      "Departamento 20: 2 empleados\n",
      "Departamento 30: 2 empleados\n",
      "Departamento 10: 1 empleados\n",
      "Departamento 40: 1 empleados\n"
     ]
    }
   ],
   "source": [
    "pipeline = [\n",
    "    {\"$group\": {\"_id\": \"$DEPTNO\", \"total_empleados\": {\"$sum\": 1}}},  \n",
    "    {\"$sort\": {\"total_empleados\": -1}}  \n",
    "]\n",
    "\n",
    "resultado = list(db.EMP.aggregate(pipeline))\n",
    "\n",
    "print(\"Número de empleados por departamento:\")\n",
    "for departamento in resultado:\n",
    "    print(f\"Departamento {departamento['_id']}: {departamento['total_empleados']} empleados\")"
   ]
  },
  {
   "cell_type": "markdown",
   "metadata": {},
   "source": [
    "# FASE 2: APLICACIONES CIENTÍFICAS EMPRESARIALES (I)\n"
   ]
  },
  {
   "cell_type": "code",
   "execution_count": null,
   "metadata": {},
   "outputs": [
    {
     "name": "stdout",
     "output_type": "stream",
     "text": [
      "The database CDS29 exists\n",
      "The database CDS16 exists\n"
     ]
    }
   ],
   "source": [
    "from pymongo import MongoClient\n",
    "connection_details  = \"mongodb://localhost:27017/\"\n",
    "db_CDS29_name='CDS29';\n",
    "db_CDS16_name='CDS16';\n",
    "# db_name='CDS16';\n",
    "\n",
    "# connect to the mongoclient\n",
    "client = MongoClient(connection_details);\n",
    "\n",
    "# the list_database_names() method returns a list of strings\n",
    "database_names = client.list_database_names();\n",
    "\n",
    "def load_database(db_name):\n",
    "    if db_name in database_names:\n",
    "        print('The database ' +  db_name + ' exists');\n",
    "        db=client.get_database(db_name);\n",
    "    else:\n",
    "        print('&&&&&& The database ' +  db_name + ' must be loaded &&&&&.');\n",
    "        print()\n",
    "        sys.exit()\n",
    "\n",
    "    return db\n",
    "\n",
    "db_CDS29=load_database(db_CDS29_name);\n",
    "db_CDS16=load_database(db_CDS16_name);"
   ]
  },
  {
   "cell_type": "code",
   "execution_count": 3,
   "metadata": {},
   "outputs": [
    {
     "name": "stdout",
     "output_type": "stream",
     "text": [
      "\n",
      "CDS29: \n",
      "-  ['molecules', 'mfp_counts']\n",
      "-  Collection(Database(MongoClient(host=['localhost:27017'], document_class=dict, tz_aware=False, connect=True), 'CDS29'), 'CDS29.molecules')\n",
      "-  Collection(Database(MongoClient(host=['localhost:27017'], document_class=dict, tz_aware=False, connect=True), 'CDS29'), 'CDS29.mfp_counts')\n",
      "\n",
      "CDS16\n",
      "-  ['mfp_counts', 'molecules']\n",
      "-  Collection(Database(MongoClient(host=['localhost:27017'], document_class=dict, tz_aware=False, connect=True), 'CDS16'), 'CDS29.molecules')\n",
      "-  Collection(Database(MongoClient(host=['localhost:27017'], document_class=dict, tz_aware=False, connect=True), 'CDS16'), 'CDS29.mfp_counts')\n"
     ]
    }
   ],
   "source": [
    "print(\"\\nCDS29: \");\n",
    "print(\"- \", db_CDS29.list_collection_names());\n",
    "print(\"- \", db_CDS29.CDS29.molecules);\n",
    "print(\"- \", db_CDS29.CDS29.mfp_counts);\n",
    "\n",
    "print(\"\\nCDS16\");\n",
    "print(\"- \", db_CDS16.list_collection_names());\n",
    "print(\"- \", db_CDS16.CDS29.molecules);\n",
    "print(\"- \", db_CDS16.CDS29.mfp_counts);"
   ]
  },
  {
   "cell_type": "code",
   "execution_count": 4,
   "metadata": {},
   "outputs": [],
   "source": [
    "import pandas as pd\n",
    "collection_name = 'molecules'\n",
    "\n",
    "# Función para cargar datos desde una colección\n",
    "def load_data(db, collection_name):\n",
    "    collection = db[collection_name]\n",
    "    cursor = collection.find()\n",
    "    data = pd.DataFrame(list(cursor))\n",
    "    return data\n",
    "\n",
    "# Cargar datos de las colecciones molecules\n",
    "data_CDS29 = load_data(db_CDS29, collection_name)\n",
    "data_CDS16 = load_data(db_CDS16, collection_name)"
   ]
  },
  {
   "cell_type": "code",
   "execution_count": 11,
   "metadata": {},
   "outputs": [
    {
     "data": {
      "text/html": [
       "<div>\n",
       "<style scoped>\n",
       "    .dataframe tbody tr th:only-of-type {\n",
       "        vertical-align: middle;\n",
       "    }\n",
       "\n",
       "    .dataframe tbody tr th {\n",
       "        vertical-align: top;\n",
       "    }\n",
       "\n",
       "    .dataframe thead th {\n",
       "        text-align: right;\n",
       "    }\n",
       "</style>\n",
       "<table border=\"1\" class=\"dataframe\">\n",
       "  <thead>\n",
       "    <tr style=\"text-align: right;\">\n",
       "      <th></th>\n",
       "      <th>_id</th>\n",
       "      <th>smiles</th>\n",
       "      <th>class</th>\n",
       "      <th>MOLECULEID</th>\n",
       "      <th>rdmol</th>\n",
       "      <th>mfp</th>\n",
       "    </tr>\n",
       "  </thead>\n",
       "  <tbody>\n",
       "    <tr>\n",
       "      <th>0</th>\n",
       "      <td>mol1382</td>\n",
       "      <td>COc1cc(-c2cc(C(=O)Nc3nc4ccccc4s3)c3ccccc3n2)cc...</td>\n",
       "      <td>0</td>\n",
       "      <td>M609802</td>\n",
       "      <td>b'\\xef\\xbe\\xad\\xde\\x00\\x00\\x00\\x00\\x0b\\x00\\x00...</td>\n",
       "      <td>{'bits': [33, 55, 64, 73, 118, 128, 136, 156, ...</td>\n",
       "    </tr>\n",
       "    <tr>\n",
       "      <th>1</th>\n",
       "      <td>mol1383</td>\n",
       "      <td>Cc1cc(C)c(N/C=C2/C(=O)N(c3nccs3)C(=O)c3ccccc32...</td>\n",
       "      <td>0</td>\n",
       "      <td>M753571</td>\n",
       "      <td>b'\\xef\\xbe\\xad\\xde\\x00\\x00\\x00\\x00\\x0b\\x00\\x00...</td>\n",
       "      <td>{'bits': [14, 33, 53, 64, 96, 128, 175, 202, 2...</td>\n",
       "    </tr>\n",
       "    <tr>\n",
       "      <th>2</th>\n",
       "      <td>mol1384</td>\n",
       "      <td>O=C(COC(=O)c1sc2ccccc2c1Cl)NC1CCCCC1</td>\n",
       "      <td>0</td>\n",
       "      <td>M754020</td>\n",
       "      <td>b'\\xef\\xbe\\xad\\xde\\x00\\x00\\x00\\x00\\x0b\\x00\\x00...</td>\n",
       "      <td>{'bits': [2, 4, 41, 64, 80, 86, 128, 145, 147,...</td>\n",
       "    </tr>\n",
       "    <tr>\n",
       "      <th>3</th>\n",
       "      <td>mol1385</td>\n",
       "      <td>CC(Oc1ccc2oc3ccccc3c2c1)C(=O)NC12CC3CC(CC(C3)C...</td>\n",
       "      <td>0</td>\n",
       "      <td>M753862</td>\n",
       "      <td>b'\\xef\\xbe\\xad\\xde\\x00\\x00\\x00\\x00\\x0b\\x00\\x00...</td>\n",
       "      <td>{'bits': [1, 33, 35, 36, 60, 64, 104, 109, 128...</td>\n",
       "    </tr>\n",
       "    <tr>\n",
       "      <th>4</th>\n",
       "      <td>mol1386</td>\n",
       "      <td>COc1cc(/C=C(\\C#N)C(=O)NC2CCCCC2C)ccc1OS(=O)(=O...</td>\n",
       "      <td>0</td>\n",
       "      <td>M753662</td>\n",
       "      <td>b'\\xef\\xbe\\xad\\xde\\x00\\x00\\x00\\x00\\x0b\\x00\\x00...</td>\n",
       "      <td>{'bits': [4, 25, 33, 55, 94, 128, 130, 179, 18...</td>\n",
       "    </tr>\n",
       "  </tbody>\n",
       "</table>\n",
       "</div>"
      ],
      "text/plain": [
       "       _id                                             smiles  class  \\\n",
       "0  mol1382  COc1cc(-c2cc(C(=O)Nc3nc4ccccc4s3)c3ccccc3n2)cc...      0   \n",
       "1  mol1383  Cc1cc(C)c(N/C=C2/C(=O)N(c3nccs3)C(=O)c3ccccc32...      0   \n",
       "2  mol1384               O=C(COC(=O)c1sc2ccccc2c1Cl)NC1CCCCC1      0   \n",
       "3  mol1385  CC(Oc1ccc2oc3ccccc3c2c1)C(=O)NC12CC3CC(CC(C3)C...      0   \n",
       "4  mol1386  COc1cc(/C=C(\\C#N)C(=O)NC2CCCCC2C)ccc1OS(=O)(=O...      0   \n",
       "\n",
       "  MOLECULEID                                              rdmol  \\\n",
       "0    M609802  b'\\xef\\xbe\\xad\\xde\\x00\\x00\\x00\\x00\\x0b\\x00\\x00...   \n",
       "1    M753571  b'\\xef\\xbe\\xad\\xde\\x00\\x00\\x00\\x00\\x0b\\x00\\x00...   \n",
       "2    M754020  b'\\xef\\xbe\\xad\\xde\\x00\\x00\\x00\\x00\\x0b\\x00\\x00...   \n",
       "3    M753862  b'\\xef\\xbe\\xad\\xde\\x00\\x00\\x00\\x00\\x0b\\x00\\x00...   \n",
       "4    M753662  b'\\xef\\xbe\\xad\\xde\\x00\\x00\\x00\\x00\\x0b\\x00\\x00...   \n",
       "\n",
       "                                                 mfp  \n",
       "0  {'bits': [33, 55, 64, 73, 118, 128, 136, 156, ...  \n",
       "1  {'bits': [14, 33, 53, 64, 96, 128, 175, 202, 2...  \n",
       "2  {'bits': [2, 4, 41, 64, 80, 86, 128, 145, 147,...  \n",
       "3  {'bits': [1, 33, 35, 36, 60, 64, 104, 109, 128...  \n",
       "4  {'bits': [4, 25, 33, 55, 94, 128, 130, 179, 18...  "
      ]
     },
     "execution_count": 11,
     "metadata": {},
     "output_type": "execute_result"
    }
   ],
   "source": [
    "data_CDS29.head()"
   ]
  },
  {
   "cell_type": "code",
   "execution_count": null,
   "metadata": {},
   "outputs": [],
   "source": [
    "data_CDS16.head()"
   ]
  },
  {
   "cell_type": "markdown",
   "metadata": {},
   "source": [
    "Cargar datos y defino la función transform_fingerprints para para modificar los fingerprints y poder realizar operaciones con ellos"
   ]
  },
  {
   "cell_type": "code",
   "execution_count": null,
   "metadata": {},
   "outputs": [],
   "source": [
    "import pandas as pd\n",
    "import numpy as np\n",
    "from sklearn.model_selection import train_test_split\n",
    "from sklearn.ensemble import RandomForestClassifier\n",
    "from sklearn.metrics import accuracy_score, roc_auc_score, cohen_kappa_score, balanced_accuracy_score\n",
    "\n",
    "# Función para transformar los fingerprints en un DataFrame binario\n",
    "def transform_fingerprints(data, num_bits=1024):\n",
    "    fingerprints = np.zeros((len(data), num_bits))\n",
    "    \n",
    "    for i, fp in enumerate(data['mfp']):\n",
    "        for bit in fp['bits']:\n",
    "            if bit < num_bits: \n",
    "                fingerprints[i, bit] = 1\n",
    "    \n",
    "    return pd.DataFrame(fingerprints, columns=[f'FP{i}' for i in range(num_bits)])\n",
    "\n",
    "# Cargar datos\n",
    "collection_name = 'molecules'\n",
    "data_CDS29 = load_data(db_CDS29, collection_name)\n",
    "data_CDS16 = load_data(db_CDS16, collection_name)"
   ]
  },
  {
   "cell_type": "code",
   "execution_count": null,
   "metadata": {},
   "outputs": [
    {
     "name": "stdout",
     "output_type": "stream",
     "text": [
      "Procesando dataset CDS29\n",
      "Resultados para CDS29:\n",
      "Accuracy: 0.8061\n",
      "ROC AUC: 0.7021\n",
      "Cohen Kappa: 0.1418\n",
      "G-Mean: 0.5508\n",
      "\n",
      "Procesando dataset CDS16\n",
      "Resultados para CDS16:\n",
      "Accuracy: 0.8235\n",
      "ROC AUC: 0.9653\n",
      "Cohen Kappa: 0.6483\n",
      "G-Mean: 0.8264\n",
      "\n"
     ]
    }
   ],
   "source": [
    "for dataset, name in zip([data_CDS29, data_CDS16], ['CDS29', 'CDS16']):\n",
    "    print(f'Procesando dataset {name}')\n",
    "    \n",
    "    # Transformar fingerprints en variables predictoras\n",
    "    X = transform_fingerprints(dataset)\n",
    "    \n",
    "    # Convertir la variable de respuesta a binario\n",
    "    dataset['class'] = dataset['class'].map({'Active': 1, 'Inactive': 0})\n",
    "    y = dataset['class']\n",
    "    \n",
    "    # Eliminar columnas con solo ceros\n",
    "    X = X.loc[:, (X != 0).any(axis=0)]\n",
    "    \n",
    "    # Dividir en conjunto de entrenamiento y prueba\n",
    "    X_train, X_test, y_train, y_test = train_test_split(X, y, test_size=0.2, random_state=42, stratify=y)\n",
    "    \n",
    "    # Entrenar un modelo de Random Forest\n",
    "    clf = RandomForestClassifier(n_estimators=100, random_state=42)\n",
    "    clf.fit(X_train, y_train)\n",
    "    \n",
    "    # Predicciones\n",
    "    y_pred = clf.predict(X_test)\n",
    "    y_prob = clf.predict_proba(X_test)[:, 1]\n",
    "    \n",
    "    # Evaluación\n",
    "    accuracy = accuracy_score(y_test, y_pred)\n",
    "    roc_auc = roc_auc_score(y_test, y_prob)\n",
    "    kappa = cohen_kappa_score(y_test, y_pred)\n",
    "    gmean = balanced_accuracy_score(y_test, y_pred)\n",
    "    \n",
    "    # Imprimir métricas\n",
    "    print(f'Resultados para {name}:')\n",
    "    print(f'Accuracy: {accuracy:.4f}')\n",
    "    print(f'ROC AUC: {roc_auc:.4f}')\n",
    "    print(f'Cohen Kappa: {kappa:.4f}')\n",
    "    print(f'G-Mean: {gmean:.4f}\\n')"
   ]
  }
 ],
 "metadata": {
  "kernelspec": {
   "display_name": "Python 3",
   "language": "python",
   "name": "python3"
  },
  "language_info": {
   "codemirror_mode": {
    "name": "ipython",
    "version": 3
   },
   "file_extension": ".py",
   "mimetype": "text/x-python",
   "name": "python",
   "nbconvert_exporter": "python",
   "pygments_lexer": "ipython3",
   "version": "3.12.1"
  }
 },
 "nbformat": 4,
 "nbformat_minor": 2
}
