{
 "cells": [
  {
   "cell_type": "markdown",
   "metadata": {},
   "source": [
    "# Práctica 2: CLASIFICACIÓN NO CONVENCIONAL: MULTILABEL\n",
    "### Carlos Checa Moreno\n",
    "### i02chmoc@uco.es"
   ]
  },
  {
   "cell_type": "markdown",
   "metadata": {},
   "source": [
    "# Ejercicios:"
   ]
  },
  {
   "cell_type": "markdown",
   "metadata": {},
   "source": [
    "## Ejercicio 1 \n",
    "Realiza el tutorial colgado en: http://scikit.ml/tutorial.html, comprueba que no tienes problemas de configuración y que comprendes lo realizado en cada paso del mismo."
   ]
  },
  {
   "cell_type": "code",
   "execution_count": 1,
   "metadata": {},
   "outputs": [
    {
     "name": "stdout",
     "output_type": "stream",
     "text": [
      "Collecting scikit-multilearn\n",
      "  Downloading scikit_multilearn-0.2.0-py3-none-any.whl.metadata (6.0 kB)\n",
      "Downloading scikit_multilearn-0.2.0-py3-none-any.whl (89 kB)\n",
      "Installing collected packages: scikit-multilearn\n",
      "Successfully installed scikit-multilearn-0.2.0\n",
      "Note: you may need to restart the kernel to use updated packages.\n"
     ]
    },
    {
     "name": "stderr",
     "output_type": "stream",
     "text": [
      "\n",
      "[notice] A new release of pip is available: 24.3.1 -> 25.0.1\n",
      "[notice] To update, run: python.exe -m pip install --upgrade pip\n"
     ]
    }
   ],
   "source": [
    "pip install scikit-multilearn"
   ]
  },
  {
   "cell_type": "code",
   "execution_count": 4,
   "metadata": {},
   "outputs": [],
   "source": [
    "from skmultilearn.dataset import load_dataset"
   ]
  },
  {
   "cell_type": "code",
   "execution_count": 3,
   "metadata": {},
   "outputs": [
    {
     "name": "stdout",
     "output_type": "stream",
     "text": [
      "emotions:train - does not exists downloading\n",
      "Downloaded emotions-train\n",
      "emotions:test - does not exists downloading\n",
      "Downloaded emotions-test\n"
     ]
    }
   ],
   "source": [
    "X_train, y_train, feature_names, label_names = load_dataset('emotions', 'train')\n",
    "X_test, y_test, _, _ = load_dataset('emotions', 'test')"
   ]
  },
  {
   "cell_type": "code",
   "execution_count": 4,
   "metadata": {},
   "outputs": [
    {
     "data": {
      "text/plain": [
       "[('Mean_Acc1298_Mean_Mem40_Centroid', 'NUMERIC'),\n",
       " ('Mean_Acc1298_Mean_Mem40_Rolloff', 'NUMERIC'),\n",
       " ('Mean_Acc1298_Mean_Mem40_Flux', 'NUMERIC'),\n",
       " ('Mean_Acc1298_Mean_Mem40_MFCC_0', 'NUMERIC'),\n",
       " ('Mean_Acc1298_Mean_Mem40_MFCC_1', 'NUMERIC'),\n",
       " ('Mean_Acc1298_Mean_Mem40_MFCC_2', 'NUMERIC'),\n",
       " ('Mean_Acc1298_Mean_Mem40_MFCC_3', 'NUMERIC'),\n",
       " ('Mean_Acc1298_Mean_Mem40_MFCC_4', 'NUMERIC'),\n",
       " ('Mean_Acc1298_Mean_Mem40_MFCC_5', 'NUMERIC'),\n",
       " ('Mean_Acc1298_Mean_Mem40_MFCC_6', 'NUMERIC')]"
      ]
     },
     "execution_count": 4,
     "metadata": {},
     "output_type": "execute_result"
    }
   ],
   "source": [
    "feature_names[:10]"
   ]
  },
  {
   "cell_type": "code",
   "execution_count": null,
   "metadata": {},
   "outputs": [
    {
     "data": {
      "text/plain": [
       "[('amazed-suprised', ['0', '1']),\n",
       " ('happy-pleased', ['0', '1']),\n",
       " ('relaxing-calm', ['0', '1']),\n",
       " ('quiet-still', ['0', '1']),\n",
       " ('sad-lonely', ['0', '1']),\n",
       " ('angry-aggresive', ['0', '1'])]"
      ]
     },
     "execution_count": 5,
     "metadata": {},
     "output_type": "execute_result"
    }
   ],
   "source": [
    "label_names"
   ]
  },
  {
   "cell_type": "code",
   "execution_count": null,
   "metadata": {},
   "outputs": [
    {
     "ename": "",
     "evalue": "",
     "output_type": "error",
     "traceback": [
      "\u001b[1;31mThe Kernel crashed while executing code in the current cell or a previous cell. \n",
      "\u001b[1;31mPlease review the code in the cell(s) to identify a possible cause of the failure. \n",
      "\u001b[1;31mClick <a href='https://aka.ms/vscodeJupyterKernelCrash'>here</a> for more info. \n",
      "\u001b[1;31mView Jupyter <a href='command:jupyter.viewOutput'>log</a> for further details."
     ]
    }
   ],
   "source": [
    "from skmultilearn.problem_transform import BinaryRelevance\n",
    "from sklearn.svm import SVC"
   ]
  },
  {
   "cell_type": "code",
   "execution_count": 7,
   "metadata": {},
   "outputs": [],
   "source": [
    "clf = BinaryRelevance(\n",
    "    classifier=SVC(),\n",
    "    require_dense=[False, True]\n",
    ")"
   ]
  },
  {
   "cell_type": "code",
   "execution_count": 8,
   "metadata": {},
   "outputs": [
    {
     "ename": "NameError",
     "evalue": "name 'lf' is not defined",
     "output_type": "error",
     "traceback": [
      "\u001b[1;31m---------------------------------------------------------------------------\u001b[0m",
      "\u001b[1;31mNameError\u001b[0m                                 Traceback (most recent call last)",
      "Cell \u001b[1;32mIn[8], line 1\u001b[0m\n\u001b[1;32m----> 1\u001b[0m \u001b[43mlf\u001b[49m\u001b[38;5;241m.\u001b[39mclassifiers\n",
      "\u001b[1;31mNameError\u001b[0m: name 'lf' is not defined"
     ]
    }
   ],
   "source": [
    "lf.classifiers"
   ]
  },
  {
   "cell_type": "code",
   "execution_count": 20,
   "metadata": {},
   "outputs": [
    {
     "data": {
      "text/plain": [
       "array([list([1, 1]), list([1, 1]), list([1, 1]), list([1]), list([1]),\n",
       "       list([1, 1]), list([1, 1]), list([1]), list([1, 1]),\n",
       "       list([1, 1, 1]), list([1, 1]), list([1]), list([1]), list([1, 1]),\n",
       "       list([1]), list([1, 1]), list([1, 1, 1]), list([1, 1]),\n",
       "       list([1, 1]), list([1, 1, 1]), list([1, 1]), list([1]), list([1]),\n",
       "       list([1]), list([1]), list([1, 1]), list([1]), list([1, 1, 1]),\n",
       "       list([1]), list([1]), list([1]), list([1, 1]), list([1, 1]),\n",
       "       list([1]), list([1, 1]), list([1, 1]), list([1, 1, 1]),\n",
       "       list([1, 1]), list([1, 1]), list([1, 1]), list([1]), list([1, 1]),\n",
       "       list([1, 1, 1]), list([1, 1]), list([1, 1]), list([1, 1]),\n",
       "       list([1, 1, 1]), list([1, 1]), list([1]), list([1, 1]), list([1]),\n",
       "       list([1, 1, 1]), list([1]), list([1, 1]), list([1, 1]),\n",
       "       list([1, 1, 1]), list([1, 1, 1]), list([1, 1]), list([1, 1]),\n",
       "       list([1, 1]), list([1, 1]), list([1, 1]), list([1, 1]),\n",
       "       list([1, 1, 1]), list([1, 1, 1]), list([1, 1]), list([1]),\n",
       "       list([1, 1, 1]), list([1, 1]), list([1, 1]), list([1]),\n",
       "       list([1, 1]), list([1]), list([1, 1, 1]), list([1, 1]),\n",
       "       list([1, 1, 1]), list([1, 1]), list([1, 1]), list([1]), list([1]),\n",
       "       list([1]), list([1]), list([1, 1]), list([1]), list([1]),\n",
       "       list([1, 1]), list([1, 1]), list([1, 1]), list([1]), list([1, 1]),\n",
       "       list([1]), list([1, 1]), list([1, 1]), list([1, 1]), list([1, 1]),\n",
       "       list([1]), list([1, 1, 1]), list([1, 1]), list([1]), list([1, 1]),\n",
       "       list([1]), list([1]), list([1]), list([1]), list([1, 1]),\n",
       "       list([1, 1]), list([1, 1]), list([1, 1]), list([1]), list([1]),\n",
       "       list([1, 1, 1]), list([1, 1]), list([1]), list([1, 1]),\n",
       "       list([1, 1, 1]), list([1, 1]), list([1, 1, 1]), list([1, 1]),\n",
       "       list([1, 1]), list([1, 1]), list([1, 1, 1]), list([1]),\n",
       "       list([1, 1]), list([1, 1]), list([1, 1]), list([1, 1]),\n",
       "       list([1, 1]), list([1, 1]), list([1]), list([1]), list([1, 1]),\n",
       "       list([1, 1]), list([1, 1]), list([1, 1]), list([1]), list([1]),\n",
       "       list([1]), list([1, 1]), list([1, 1, 1]), list([1, 1]),\n",
       "       list([1, 1]), list([1]), list([1]), list([1, 1]), list([1, 1]),\n",
       "       list([1, 1]), list([1]), list([1]), list([1, 1]), list([1]),\n",
       "       list([1]), list([1]), list([1, 1]), list([1, 1]), list([1, 1]),\n",
       "       list([1, 1, 1]), list([1, 1]), list([1, 1]), list([1]),\n",
       "       list([1, 1, 1]), list([1]), list([1]), list([1]), list([1]),\n",
       "       list([1, 1]), list([1]), list([1, 1]), list([1]), list([1, 1, 1]),\n",
       "       list([1]), list([1]), list([1, 1]), list([1, 1, 1]), list([1]),\n",
       "       list([1]), list([1, 1]), list([1]), list([1]), list([1]),\n",
       "       list([1, 1]), list([1, 1]), list([1]), list([1, 1]), list([1]),\n",
       "       list([1]), list([1]), list([1, 1]), list([1, 1]), list([1, 1]),\n",
       "       list([1]), list([1]), list([1, 1]), list([1, 1]), list([1]),\n",
       "       list([1, 1]), list([1, 1]), list([1, 1]), list([1, 1]), list([1]),\n",
       "       list([1]), list([1, 1, 1]), list([1]), list([1, 1]), list([1]),\n",
       "       list([1, 1]), list([1]), list([1, 1]), list([1]), list([1]),\n",
       "       list([1, 1, 1]), list([1]), list([1, 1]), list([1, 1]), list([1]),\n",
       "       list([1]), list([1]), list([1, 1, 1]), list([1, 1]), list([1, 1]),\n",
       "       list([1]), list([1, 1]), list([1]), list([1, 1]), list([1]),\n",
       "       list([1, 1, 1]), list([1]), list([1]), list([1, 1]), list([1, 1]),\n",
       "       list([1]), list([1, 1, 1]), list([1]), list([1, 1]), list([1, 1]),\n",
       "       list([1, 1]), list([1, 1, 1]), list([1, 1]), list([1]), list([1]),\n",
       "       list([1]), list([1, 1]), list([1]), list([1, 1]), list([1, 1, 1]),\n",
       "       list([1, 1]), list([1, 1]), list([1, 1]), list([1, 1]), list([1]),\n",
       "       list([1, 1]), list([1, 1, 1]), list([1]), list([1]),\n",
       "       list([1, 1, 1]), list([1, 1, 1]), list([1, 1]), list([1, 1]),\n",
       "       list([1, 1]), list([1, 1]), list([1, 1]), list([1, 1]), list([1]),\n",
       "       list([1, 1]), list([1, 1]), list([1, 1]), list([1, 1]),\n",
       "       list([1, 1, 1]), list([1, 1]), list([1, 1]), list([1, 1]),\n",
       "       list([1, 1]), list([1, 1]), list([1, 1]), list([1]),\n",
       "       list([1, 1, 1]), list([1]), list([1, 1]), list([1, 1, 1]),\n",
       "       list([1, 1]), list([1, 1]), list([1, 1]), list([1]), list([1, 1]),\n",
       "       list([1, 1]), list([1, 1]), list([1, 1, 1]), list([1, 1]),\n",
       "       list([1]), list([1]), list([1, 1]), list([1, 1]), list([1, 1, 1]),\n",
       "       list([1, 1]), list([1]), list([1]), list([1, 1, 1]), list([1, 1]),\n",
       "       list([1, 1]), list([1]), list([1, 1]), list([1, 1]),\n",
       "       list([1, 1, 1]), list([1, 1]), list([1, 1]), list([1, 1]),\n",
       "       list([1, 1]), list([1, 1]), list([1, 1]), list([1, 1]),\n",
       "       list([1, 1]), list([1, 1, 1]), list([1, 1]), list([1]), list([1]),\n",
       "       list([1, 1]), list([1, 1, 1]), list([1]), list([1, 1]),\n",
       "       list([1, 1, 1]), list([1, 1]), list([1, 1]), list([1, 1]),\n",
       "       list([1]), list([1, 1]), list([1, 1]), list([1, 1]), list([1, 1]),\n",
       "       list([1, 1]), list([1]), list([1, 1]), list([1]), list([1]),\n",
       "       list([1, 1]), list([1, 1, 1]), list([1, 1]), list([1, 1]),\n",
       "       list([1]), list([1, 1]), list([1]), list([1]), list([1, 1]),\n",
       "       list([1]), list([1, 1, 1]), list([1]), list([1, 1]),\n",
       "       list([1, 1, 1]), list([1]), list([1]), list([1, 1]), list([1, 1]),\n",
       "       list([1, 1]), list([1, 1]), list([1]), list([1]), list([1, 1]),\n",
       "       list([1]), list([1, 1, 1]), list([1, 1, 1]), list([1, 1]),\n",
       "       list([1, 1]), list([1, 1, 1]), list([1, 1, 1]), list([1, 1]),\n",
       "       list([1, 1]), list([1, 1, 1]), list([1, 1]), list([1, 1]),\n",
       "       list([1, 1, 1]), list([1, 1]), list([1]), list([1, 1]), list([1]),\n",
       "       list([1, 1, 1]), list([1, 1]), list([1]), list([1, 1]),\n",
       "       list([1, 1]), list([1, 1, 1]), list([1]), list([1, 1]), list([1]),\n",
       "       list([1, 1]), list([1]), list([1, 1, 1]), list([1, 1]),\n",
       "       list([1, 1, 1]), list([1]), list([1, 1]), list([1, 1]),\n",
       "       list([1, 1]), list([1, 1])], dtype=object)"
      ]
     },
     "execution_count": 20,
     "metadata": {},
     "output_type": "execute_result"
    }
   ],
   "source": [
    "y_train.data"
   ]
  },
  {
   "cell_type": "code",
   "execution_count": 9,
   "metadata": {},
   "outputs": [
    {
     "data": {
      "text/html": [
       "<style>#sk-container-id-1 {\n",
       "  /* Definition of color scheme common for light and dark mode */\n",
       "  --sklearn-color-text: #000;\n",
       "  --sklearn-color-text-muted: #666;\n",
       "  --sklearn-color-line: gray;\n",
       "  /* Definition of color scheme for unfitted estimators */\n",
       "  --sklearn-color-unfitted-level-0: #fff5e6;\n",
       "  --sklearn-color-unfitted-level-1: #f6e4d2;\n",
       "  --sklearn-color-unfitted-level-2: #ffe0b3;\n",
       "  --sklearn-color-unfitted-level-3: chocolate;\n",
       "  /* Definition of color scheme for fitted estimators */\n",
       "  --sklearn-color-fitted-level-0: #f0f8ff;\n",
       "  --sklearn-color-fitted-level-1: #d4ebff;\n",
       "  --sklearn-color-fitted-level-2: #b3dbfd;\n",
       "  --sklearn-color-fitted-level-3: cornflowerblue;\n",
       "\n",
       "  /* Specific color for light theme */\n",
       "  --sklearn-color-text-on-default-background: var(--sg-text-color, var(--theme-code-foreground, var(--jp-content-font-color1, black)));\n",
       "  --sklearn-color-background: var(--sg-background-color, var(--theme-background, var(--jp-layout-color0, white)));\n",
       "  --sklearn-color-border-box: var(--sg-text-color, var(--theme-code-foreground, var(--jp-content-font-color1, black)));\n",
       "  --sklearn-color-icon: #696969;\n",
       "\n",
       "  @media (prefers-color-scheme: dark) {\n",
       "    /* Redefinition of color scheme for dark theme */\n",
       "    --sklearn-color-text-on-default-background: var(--sg-text-color, var(--theme-code-foreground, var(--jp-content-font-color1, white)));\n",
       "    --sklearn-color-background: var(--sg-background-color, var(--theme-background, var(--jp-layout-color0, #111)));\n",
       "    --sklearn-color-border-box: var(--sg-text-color, var(--theme-code-foreground, var(--jp-content-font-color1, white)));\n",
       "    --sklearn-color-icon: #878787;\n",
       "  }\n",
       "}\n",
       "\n",
       "#sk-container-id-1 {\n",
       "  color: var(--sklearn-color-text);\n",
       "}\n",
       "\n",
       "#sk-container-id-1 pre {\n",
       "  padding: 0;\n",
       "}\n",
       "\n",
       "#sk-container-id-1 input.sk-hidden--visually {\n",
       "  border: 0;\n",
       "  clip: rect(1px 1px 1px 1px);\n",
       "  clip: rect(1px, 1px, 1px, 1px);\n",
       "  height: 1px;\n",
       "  margin: -1px;\n",
       "  overflow: hidden;\n",
       "  padding: 0;\n",
       "  position: absolute;\n",
       "  width: 1px;\n",
       "}\n",
       "\n",
       "#sk-container-id-1 div.sk-dashed-wrapped {\n",
       "  border: 1px dashed var(--sklearn-color-line);\n",
       "  margin: 0 0.4em 0.5em 0.4em;\n",
       "  box-sizing: border-box;\n",
       "  padding-bottom: 0.4em;\n",
       "  background-color: var(--sklearn-color-background);\n",
       "}\n",
       "\n",
       "#sk-container-id-1 div.sk-container {\n",
       "  /* jupyter's `normalize.less` sets `[hidden] { display: none; }`\n",
       "     but bootstrap.min.css set `[hidden] { display: none !important; }`\n",
       "     so we also need the `!important` here to be able to override the\n",
       "     default hidden behavior on the sphinx rendered scikit-learn.org.\n",
       "     See: https://github.com/scikit-learn/scikit-learn/issues/21755 */\n",
       "  display: inline-block !important;\n",
       "  position: relative;\n",
       "}\n",
       "\n",
       "#sk-container-id-1 div.sk-text-repr-fallback {\n",
       "  display: none;\n",
       "}\n",
       "\n",
       "div.sk-parallel-item,\n",
       "div.sk-serial,\n",
       "div.sk-item {\n",
       "  /* draw centered vertical line to link estimators */\n",
       "  background-image: linear-gradient(var(--sklearn-color-text-on-default-background), var(--sklearn-color-text-on-default-background));\n",
       "  background-size: 2px 100%;\n",
       "  background-repeat: no-repeat;\n",
       "  background-position: center center;\n",
       "}\n",
       "\n",
       "/* Parallel-specific style estimator block */\n",
       "\n",
       "#sk-container-id-1 div.sk-parallel-item::after {\n",
       "  content: \"\";\n",
       "  width: 100%;\n",
       "  border-bottom: 2px solid var(--sklearn-color-text-on-default-background);\n",
       "  flex-grow: 1;\n",
       "}\n",
       "\n",
       "#sk-container-id-1 div.sk-parallel {\n",
       "  display: flex;\n",
       "  align-items: stretch;\n",
       "  justify-content: center;\n",
       "  background-color: var(--sklearn-color-background);\n",
       "  position: relative;\n",
       "}\n",
       "\n",
       "#sk-container-id-1 div.sk-parallel-item {\n",
       "  display: flex;\n",
       "  flex-direction: column;\n",
       "}\n",
       "\n",
       "#sk-container-id-1 div.sk-parallel-item:first-child::after {\n",
       "  align-self: flex-end;\n",
       "  width: 50%;\n",
       "}\n",
       "\n",
       "#sk-container-id-1 div.sk-parallel-item:last-child::after {\n",
       "  align-self: flex-start;\n",
       "  width: 50%;\n",
       "}\n",
       "\n",
       "#sk-container-id-1 div.sk-parallel-item:only-child::after {\n",
       "  width: 0;\n",
       "}\n",
       "\n",
       "/* Serial-specific style estimator block */\n",
       "\n",
       "#sk-container-id-1 div.sk-serial {\n",
       "  display: flex;\n",
       "  flex-direction: column;\n",
       "  align-items: center;\n",
       "  background-color: var(--sklearn-color-background);\n",
       "  padding-right: 1em;\n",
       "  padding-left: 1em;\n",
       "}\n",
       "\n",
       "\n",
       "/* Toggleable style: style used for estimator/Pipeline/ColumnTransformer box that is\n",
       "clickable and can be expanded/collapsed.\n",
       "- Pipeline and ColumnTransformer use this feature and define the default style\n",
       "- Estimators will overwrite some part of the style using the `sk-estimator` class\n",
       "*/\n",
       "\n",
       "/* Pipeline and ColumnTransformer style (default) */\n",
       "\n",
       "#sk-container-id-1 div.sk-toggleable {\n",
       "  /* Default theme specific background. It is overwritten whether we have a\n",
       "  specific estimator or a Pipeline/ColumnTransformer */\n",
       "  background-color: var(--sklearn-color-background);\n",
       "}\n",
       "\n",
       "/* Toggleable label */\n",
       "#sk-container-id-1 label.sk-toggleable__label {\n",
       "  cursor: pointer;\n",
       "  display: flex;\n",
       "  width: 100%;\n",
       "  margin-bottom: 0;\n",
       "  padding: 0.5em;\n",
       "  box-sizing: border-box;\n",
       "  text-align: center;\n",
       "  align-items: start;\n",
       "  justify-content: space-between;\n",
       "  gap: 0.5em;\n",
       "}\n",
       "\n",
       "#sk-container-id-1 label.sk-toggleable__label .caption {\n",
       "  font-size: 0.6rem;\n",
       "  font-weight: lighter;\n",
       "  color: var(--sklearn-color-text-muted);\n",
       "}\n",
       "\n",
       "#sk-container-id-1 label.sk-toggleable__label-arrow:before {\n",
       "  /* Arrow on the left of the label */\n",
       "  content: \"▸\";\n",
       "  float: left;\n",
       "  margin-right: 0.25em;\n",
       "  color: var(--sklearn-color-icon);\n",
       "}\n",
       "\n",
       "#sk-container-id-1 label.sk-toggleable__label-arrow:hover:before {\n",
       "  color: var(--sklearn-color-text);\n",
       "}\n",
       "\n",
       "/* Toggleable content - dropdown */\n",
       "\n",
       "#sk-container-id-1 div.sk-toggleable__content {\n",
       "  max-height: 0;\n",
       "  max-width: 0;\n",
       "  overflow: hidden;\n",
       "  text-align: left;\n",
       "  /* unfitted */\n",
       "  background-color: var(--sklearn-color-unfitted-level-0);\n",
       "}\n",
       "\n",
       "#sk-container-id-1 div.sk-toggleable__content.fitted {\n",
       "  /* fitted */\n",
       "  background-color: var(--sklearn-color-fitted-level-0);\n",
       "}\n",
       "\n",
       "#sk-container-id-1 div.sk-toggleable__content pre {\n",
       "  margin: 0.2em;\n",
       "  border-radius: 0.25em;\n",
       "  color: var(--sklearn-color-text);\n",
       "  /* unfitted */\n",
       "  background-color: var(--sklearn-color-unfitted-level-0);\n",
       "}\n",
       "\n",
       "#sk-container-id-1 div.sk-toggleable__content.fitted pre {\n",
       "  /* unfitted */\n",
       "  background-color: var(--sklearn-color-fitted-level-0);\n",
       "}\n",
       "\n",
       "#sk-container-id-1 input.sk-toggleable__control:checked~div.sk-toggleable__content {\n",
       "  /* Expand drop-down */\n",
       "  max-height: 200px;\n",
       "  max-width: 100%;\n",
       "  overflow: auto;\n",
       "}\n",
       "\n",
       "#sk-container-id-1 input.sk-toggleable__control:checked~label.sk-toggleable__label-arrow:before {\n",
       "  content: \"▾\";\n",
       "}\n",
       "\n",
       "/* Pipeline/ColumnTransformer-specific style */\n",
       "\n",
       "#sk-container-id-1 div.sk-label input.sk-toggleable__control:checked~label.sk-toggleable__label {\n",
       "  color: var(--sklearn-color-text);\n",
       "  background-color: var(--sklearn-color-unfitted-level-2);\n",
       "}\n",
       "\n",
       "#sk-container-id-1 div.sk-label.fitted input.sk-toggleable__control:checked~label.sk-toggleable__label {\n",
       "  background-color: var(--sklearn-color-fitted-level-2);\n",
       "}\n",
       "\n",
       "/* Estimator-specific style */\n",
       "\n",
       "/* Colorize estimator box */\n",
       "#sk-container-id-1 div.sk-estimator input.sk-toggleable__control:checked~label.sk-toggleable__label {\n",
       "  /* unfitted */\n",
       "  background-color: var(--sklearn-color-unfitted-level-2);\n",
       "}\n",
       "\n",
       "#sk-container-id-1 div.sk-estimator.fitted input.sk-toggleable__control:checked~label.sk-toggleable__label {\n",
       "  /* fitted */\n",
       "  background-color: var(--sklearn-color-fitted-level-2);\n",
       "}\n",
       "\n",
       "#sk-container-id-1 div.sk-label label.sk-toggleable__label,\n",
       "#sk-container-id-1 div.sk-label label {\n",
       "  /* The background is the default theme color */\n",
       "  color: var(--sklearn-color-text-on-default-background);\n",
       "}\n",
       "\n",
       "/* On hover, darken the color of the background */\n",
       "#sk-container-id-1 div.sk-label:hover label.sk-toggleable__label {\n",
       "  color: var(--sklearn-color-text);\n",
       "  background-color: var(--sklearn-color-unfitted-level-2);\n",
       "}\n",
       "\n",
       "/* Label box, darken color on hover, fitted */\n",
       "#sk-container-id-1 div.sk-label.fitted:hover label.sk-toggleable__label.fitted {\n",
       "  color: var(--sklearn-color-text);\n",
       "  background-color: var(--sklearn-color-fitted-level-2);\n",
       "}\n",
       "\n",
       "/* Estimator label */\n",
       "\n",
       "#sk-container-id-1 div.sk-label label {\n",
       "  font-family: monospace;\n",
       "  font-weight: bold;\n",
       "  display: inline-block;\n",
       "  line-height: 1.2em;\n",
       "}\n",
       "\n",
       "#sk-container-id-1 div.sk-label-container {\n",
       "  text-align: center;\n",
       "}\n",
       "\n",
       "/* Estimator-specific */\n",
       "#sk-container-id-1 div.sk-estimator {\n",
       "  font-family: monospace;\n",
       "  border: 1px dotted var(--sklearn-color-border-box);\n",
       "  border-radius: 0.25em;\n",
       "  box-sizing: border-box;\n",
       "  margin-bottom: 0.5em;\n",
       "  /* unfitted */\n",
       "  background-color: var(--sklearn-color-unfitted-level-0);\n",
       "}\n",
       "\n",
       "#sk-container-id-1 div.sk-estimator.fitted {\n",
       "  /* fitted */\n",
       "  background-color: var(--sklearn-color-fitted-level-0);\n",
       "}\n",
       "\n",
       "/* on hover */\n",
       "#sk-container-id-1 div.sk-estimator:hover {\n",
       "  /* unfitted */\n",
       "  background-color: var(--sklearn-color-unfitted-level-2);\n",
       "}\n",
       "\n",
       "#sk-container-id-1 div.sk-estimator.fitted:hover {\n",
       "  /* fitted */\n",
       "  background-color: var(--sklearn-color-fitted-level-2);\n",
       "}\n",
       "\n",
       "/* Specification for estimator info (e.g. \"i\" and \"?\") */\n",
       "\n",
       "/* Common style for \"i\" and \"?\" */\n",
       "\n",
       ".sk-estimator-doc-link,\n",
       "a:link.sk-estimator-doc-link,\n",
       "a:visited.sk-estimator-doc-link {\n",
       "  float: right;\n",
       "  font-size: smaller;\n",
       "  line-height: 1em;\n",
       "  font-family: monospace;\n",
       "  background-color: var(--sklearn-color-background);\n",
       "  border-radius: 1em;\n",
       "  height: 1em;\n",
       "  width: 1em;\n",
       "  text-decoration: none !important;\n",
       "  margin-left: 0.5em;\n",
       "  text-align: center;\n",
       "  /* unfitted */\n",
       "  border: var(--sklearn-color-unfitted-level-1) 1pt solid;\n",
       "  color: var(--sklearn-color-unfitted-level-1);\n",
       "}\n",
       "\n",
       ".sk-estimator-doc-link.fitted,\n",
       "a:link.sk-estimator-doc-link.fitted,\n",
       "a:visited.sk-estimator-doc-link.fitted {\n",
       "  /* fitted */\n",
       "  border: var(--sklearn-color-fitted-level-1) 1pt solid;\n",
       "  color: var(--sklearn-color-fitted-level-1);\n",
       "}\n",
       "\n",
       "/* On hover */\n",
       "div.sk-estimator:hover .sk-estimator-doc-link:hover,\n",
       ".sk-estimator-doc-link:hover,\n",
       "div.sk-label-container:hover .sk-estimator-doc-link:hover,\n",
       ".sk-estimator-doc-link:hover {\n",
       "  /* unfitted */\n",
       "  background-color: var(--sklearn-color-unfitted-level-3);\n",
       "  color: var(--sklearn-color-background);\n",
       "  text-decoration: none;\n",
       "}\n",
       "\n",
       "div.sk-estimator.fitted:hover .sk-estimator-doc-link.fitted:hover,\n",
       ".sk-estimator-doc-link.fitted:hover,\n",
       "div.sk-label-container:hover .sk-estimator-doc-link.fitted:hover,\n",
       ".sk-estimator-doc-link.fitted:hover {\n",
       "  /* fitted */\n",
       "  background-color: var(--sklearn-color-fitted-level-3);\n",
       "  color: var(--sklearn-color-background);\n",
       "  text-decoration: none;\n",
       "}\n",
       "\n",
       "/* Span, style for the box shown on hovering the info icon */\n",
       ".sk-estimator-doc-link span {\n",
       "  display: none;\n",
       "  z-index: 9999;\n",
       "  position: relative;\n",
       "  font-weight: normal;\n",
       "  right: .2ex;\n",
       "  padding: .5ex;\n",
       "  margin: .5ex;\n",
       "  width: min-content;\n",
       "  min-width: 20ex;\n",
       "  max-width: 50ex;\n",
       "  color: var(--sklearn-color-text);\n",
       "  box-shadow: 2pt 2pt 4pt #999;\n",
       "  /* unfitted */\n",
       "  background: var(--sklearn-color-unfitted-level-0);\n",
       "  border: .5pt solid var(--sklearn-color-unfitted-level-3);\n",
       "}\n",
       "\n",
       ".sk-estimator-doc-link.fitted span {\n",
       "  /* fitted */\n",
       "  background: var(--sklearn-color-fitted-level-0);\n",
       "  border: var(--sklearn-color-fitted-level-3);\n",
       "}\n",
       "\n",
       ".sk-estimator-doc-link:hover span {\n",
       "  display: block;\n",
       "}\n",
       "\n",
       "/* \"?\"-specific style due to the `<a>` HTML tag */\n",
       "\n",
       "#sk-container-id-1 a.estimator_doc_link {\n",
       "  float: right;\n",
       "  font-size: 1rem;\n",
       "  line-height: 1em;\n",
       "  font-family: monospace;\n",
       "  background-color: var(--sklearn-color-background);\n",
       "  border-radius: 1rem;\n",
       "  height: 1rem;\n",
       "  width: 1rem;\n",
       "  text-decoration: none;\n",
       "  /* unfitted */\n",
       "  color: var(--sklearn-color-unfitted-level-1);\n",
       "  border: var(--sklearn-color-unfitted-level-1) 1pt solid;\n",
       "}\n",
       "\n",
       "#sk-container-id-1 a.estimator_doc_link.fitted {\n",
       "  /* fitted */\n",
       "  border: var(--sklearn-color-fitted-level-1) 1pt solid;\n",
       "  color: var(--sklearn-color-fitted-level-1);\n",
       "}\n",
       "\n",
       "/* On hover */\n",
       "#sk-container-id-1 a.estimator_doc_link:hover {\n",
       "  /* unfitted */\n",
       "  background-color: var(--sklearn-color-unfitted-level-3);\n",
       "  color: var(--sklearn-color-background);\n",
       "  text-decoration: none;\n",
       "}\n",
       "\n",
       "#sk-container-id-1 a.estimator_doc_link.fitted:hover {\n",
       "  /* fitted */\n",
       "  background-color: var(--sklearn-color-fitted-level-3);\n",
       "}\n",
       "</style><div id=\"sk-container-id-1\" class=\"sk-top-container\"><div class=\"sk-text-repr-fallback\"><pre>BinaryRelevance(classifier=SVC(), require_dense=[False, True])</pre><b>In a Jupyter environment, please rerun this cell to show the HTML representation or trust the notebook. <br />On GitHub, the HTML representation is unable to render, please try loading this page with nbviewer.org.</b></div><div class=\"sk-container\" hidden><div class=\"sk-item sk-dashed-wrapped\"><div class=\"sk-label-container\"><div class=\"sk-label fitted sk-toggleable\"><input class=\"sk-toggleable__control sk-hidden--visually\" id=\"sk-estimator-id-1\" type=\"checkbox\" ><label for=\"sk-estimator-id-1\" class=\"sk-toggleable__label fitted sk-toggleable__label-arrow\"><div><div>BinaryRelevance</div></div><div><span class=\"sk-estimator-doc-link fitted\">i<span>Fitted</span></span></div></label><div class=\"sk-toggleable__content fitted\"><pre>BinaryRelevance(classifier=SVC(), require_dense=[False, True])</pre></div> </div></div><div class=\"sk-parallel\"><div class=\"sk-parallel-item\"><div class=\"sk-item\"><div class=\"sk-label-container\"><div class=\"sk-label fitted sk-toggleable\"><input class=\"sk-toggleable__control sk-hidden--visually\" id=\"sk-estimator-id-2\" type=\"checkbox\" ><label for=\"sk-estimator-id-2\" class=\"sk-toggleable__label fitted sk-toggleable__label-arrow\"><div><div>classifier: SVC</div></div></label><div class=\"sk-toggleable__content fitted\"><pre>SVC()</pre></div> </div></div><div class=\"sk-serial\"><div class=\"sk-item\"><div class=\"sk-estimator fitted sk-toggleable\"><input class=\"sk-toggleable__control sk-hidden--visually\" id=\"sk-estimator-id-3\" type=\"checkbox\" ><label for=\"sk-estimator-id-3\" class=\"sk-toggleable__label fitted sk-toggleable__label-arrow\"><div><div>SVC</div></div><div><a class=\"sk-estimator-doc-link fitted\" rel=\"noreferrer\" target=\"_blank\" href=\"https://scikit-learn.org/1.6/modules/generated/sklearn.svm.SVC.html\">?<span>Documentation for SVC</span></a></div></label><div class=\"sk-toggleable__content fitted\"><pre>SVC()</pre></div> </div></div></div></div></div></div></div></div></div>"
      ],
      "text/plain": [
       "BinaryRelevance(classifier=SVC(), require_dense=[False, True])"
      ]
     },
     "execution_count": 9,
     "metadata": {},
     "output_type": "execute_result"
    }
   ],
   "source": [
    "clf.fit(X_train, y_train)"
   ]
  },
  {
   "cell_type": "code",
   "execution_count": 11,
   "metadata": {},
   "outputs": [],
   "source": [
    "prediction = clf.predict(X_test)"
   ]
  },
  {
   "cell_type": "code",
   "execution_count": 12,
   "metadata": {},
   "outputs": [
    {
     "data": {
      "text/plain": [
       "<202x6 sparse matrix of type '<class 'numpy.int64'>'\n",
       "\twith 27 stored elements in Compressed Sparse Column format>"
      ]
     },
     "execution_count": 12,
     "metadata": {},
     "output_type": "execute_result"
    }
   ],
   "source": [
    "prediction"
   ]
  },
  {
   "cell_type": "code",
   "execution_count": 13,
   "metadata": {},
   "outputs": [
    {
     "data": {
      "text/plain": [
       "0.3250825082508251"
      ]
     },
     "execution_count": 13,
     "metadata": {},
     "output_type": "execute_result"
    }
   ],
   "source": [
    "import sklearn.metrics as metrics\n",
    "metrics.hamming_loss(y_test, prediction)"
   ]
  },
  {
   "cell_type": "code",
   "execution_count": 14,
   "metadata": {},
   "outputs": [
    {
     "data": {
      "text/plain": [
       "0.01485148514851485"
      ]
     },
     "execution_count": 14,
     "metadata": {},
     "output_type": "execute_result"
    }
   ],
   "source": [
    "metrics.accuracy_score(y_test, prediction)"
   ]
  },
  {
   "cell_type": "markdown",
   "metadata": {},
   "source": [
    "## Ejercicio 2\n",
    "Familiarízate con los datasets presentes en Scikit-multilearn y con los que trabajaremos\n",
    "durante las próximas sesiones. ¿Qué información representan?. Concretamente, dispone de\n",
    "los siguientes 17 datasets: {'scene', 'Corel5k', 'bibtex', 'enron', 'rcv1subset5', 'tmc2007_500',\n",
    "'rcv1subset3', 'rcv1subset1', 'delicious', 'rcv1subset4', 'genbase', 'birds', 'emotions',\n",
    "'rcv1subset2', 'mediamill', 'medical', 'yeast'}. "
   ]
  },
  {
   "cell_type": "markdown",
   "metadata": {},
   "source": [
    "Podemos confirmar todos los datasets disponibles con la siguiente función:"
   ]
  },
  {
   "cell_type": "code",
   "execution_count": 16,
   "metadata": {},
   "outputs": [
    {
     "data": {
      "text/plain": [
       "defaultdict(list,\n",
       "            {('bibtex', 'undivided'): ['5c1e474c2fd026519aec931a26ad18a6',\n",
       "              'bibtex-undivided.scikitml.bz2'],\n",
       "             ('bibtex', 'test'): ['d250caa297d060374f59318ad6b93771',\n",
       "              'bibtex-test.scikitml.bz2'],\n",
       "             ('bibtex', 'train'): ['1dd15daca7b8b2c17d692bdadce5dc31',\n",
       "              'bibtex-train.scikitml.bz2'],\n",
       "             ('birds', 'undivided'): ['1da06f4ae896800547dabf89044584e1',\n",
       "              'birds-undivided.scikitml.bz2'],\n",
       "             ('birds', 'test'): ['77fbfcc66d77040d3806c2a5ea4ff829',\n",
       "              'birds-test.scikitml.bz2'],\n",
       "             ('birds', 'train'): ['5c2bacaa5506e904b6501cc50ddfefe2',\n",
       "              'birds-train.scikitml.bz2'],\n",
       "             ('Corel5k', 'undivided'): ['062ea897821608035748a2a3b200d382',\n",
       "              'Corel5k-undivided.scikitml.bz2'],\n",
       "             ('Corel5k', 'test'): ['cb91444418a2f8b9814d10d4696af9f0',\n",
       "              'Corel5k-test.scikitml.bz2'],\n",
       "             ('Corel5k', 'train'): ['1863ec41b872f75b5f07bdc4cdc419fd',\n",
       "              'Corel5k-train.scikitml.bz2'],\n",
       "             ('delicious', 'undivided'): ['45abc065f123f2ac4d4f6ea5c5a5f940',\n",
       "              'delicious-undivided.scikitml.bz2'],\n",
       "             ('delicious', 'test'): ['6dfb4b0c2ae56010ba0166c9c592cfb6',\n",
       "              'delicious-test.scikitml.bz2'],\n",
       "             ('delicious', 'train'): ['31964bf875bc359ed1460536cb85859e',\n",
       "              'delicious-train.scikitml.bz2'],\n",
       "             ('emotions', 'undivided'): ['569a6c4dad0fdd2d470b9ad41fd18b6b',\n",
       "              'emotions-undivided.scikitml.bz2'],\n",
       "             ('emotions', 'test'): ['0090d9d829f20f2d112dbf942511b199',\n",
       "              'emotions-test.scikitml.bz2'],\n",
       "             ('emotions', 'train'): ['d558ed3cca99742cf7e80731c4c04b8e',\n",
       "              'emotions-train.scikitml.bz2'],\n",
       "             ('enron', 'undivided'): ['54b5f5d53695920274d5b8e2ca986513',\n",
       "              'enron-undivided.scikitml.bz2'],\n",
       "             ('enron', 'test'): ['37a240406757efc03c0cac474d5438e9',\n",
       "              'enron-test.scikitml.bz2'],\n",
       "             ('enron', 'train'): ['0fc03a1837e9e65b68f5d6f849b1773f',\n",
       "              'enron-train.scikitml.bz2'],\n",
       "             ('genbase', 'undivided'): ['46af04a7f0554eb2e64a9fcf2b9d3a9c',\n",
       "              'genbase-undivided.scikitml.bz2'],\n",
       "             ('genbase', 'test'): ['129876a9411ed1adf2366c3c7f6c1dd8',\n",
       "              'genbase-test.scikitml.bz2'],\n",
       "             ('genbase', 'train'): ['a674eb31684fe824d80025c414b884d4',\n",
       "              'genbase-train.scikitml.bz2'],\n",
       "             ('mediamill', 'undivided'): ['e2f91f4ed10df70414622a1001e0c447',\n",
       "              'mediamill-undivided.scikitml.bz2'],\n",
       "             ('mediamill', 'test'): ['d17a675cf8c78674557f000739f893a7',\n",
       "              'mediamill-test.scikitml.bz2'],\n",
       "             ('mediamill', 'train'): ['a96c5d0ce916d724397b793e75baa0cb',\n",
       "              'mediamill-train.scikitml.bz2'],\n",
       "             ('medical', 'undivided'): ['b3eac7e58595898904a8e7aa148b259c',\n",
       "              'medical-undivided.scikitml.bz2'],\n",
       "             ('medical', 'test'): ['cd91418a6a616db88529482729cbb60b',\n",
       "              'medical-test.scikitml.bz2'],\n",
       "             ('medical', 'train'): ['cb91bcdba133b33ec53195a345e3ebba',\n",
       "              'medical-train.scikitml.bz2'],\n",
       "             ('rcv1subset1', 'undivided'): ['2d1906310260144a87f5de89edb402b0',\n",
       "              'rcv1subset1-undivided.scikitml.bz2'],\n",
       "             ('rcv1subset1', 'test'): ['30d0c3b155ece588073c1a7a609a2b7b',\n",
       "              'rcv1subset1-test.scikitml.bz2'],\n",
       "             ('rcv1subset1', 'train'): ['2482c6e57ff578b8b9f429df140c3866',\n",
       "              'rcv1subset1-train.scikitml.bz2'],\n",
       "             ('rcv1subset2', 'undivided'): ['e42a7f75eafd5adfe6452454c6cffee2',\n",
       "              'rcv1subset2-undivided.scikitml.bz2'],\n",
       "             ('rcv1subset2', 'test'): ['a16a22a36912d3388b94c2aba77d4462',\n",
       "              'rcv1subset2-test.scikitml.bz2'],\n",
       "             ('rcv1subset2', 'train'): ['2359343930e2010d0dc90b904430370c',\n",
       "              'rcv1subset2-train.scikitml.bz2'],\n",
       "             ('rcv1subset3', 'undivided'): ['2b2381df4801f4045df907e1ddac8238',\n",
       "              'rcv1subset3-undivided.scikitml.bz2'],\n",
       "             ('rcv1subset3', 'test'): ['e60511202e5688648205200477176f70',\n",
       "              'rcv1subset3-test.scikitml.bz2'],\n",
       "             ('rcv1subset3', 'train'): ['643b3d0a393d72ccd5e80e3ce97343ec',\n",
       "              'rcv1subset3-train.scikitml.bz2'],\n",
       "             ('rcv1subset4', 'undivided'): ['d28954a8d716de4d636600e80e2abb68',\n",
       "              'rcv1subset4-undivided.scikitml.bz2'],\n",
       "             ('rcv1subset4', 'test'): ['2a479638c7e4f280cb230d5bdb2365a8',\n",
       "              'rcv1subset4-test.scikitml.bz2'],\n",
       "             ('rcv1subset4', 'train'): ['a0a1ed6c94157cfe4722d351937abc8f',\n",
       "              'rcv1subset4-train.scikitml.bz2'],\n",
       "             ('rcv1subset5', 'undivided'): ['287a07504a8e6f9b61991d99d04cb7f8',\n",
       "              'rcv1subset5-undivided.scikitml.bz2'],\n",
       "             ('rcv1subset5', 'test'): ['6ab3fd6456d297b919e94a36d7754b85',\n",
       "              'rcv1subset5-test.scikitml.bz2'],\n",
       "             ('rcv1subset5', 'train'): ['b2c69f099486b0f39ed8630f20eba2d5',\n",
       "              'rcv1subset5-train.scikitml.bz2'],\n",
       "             ('scene', 'undivided'): ['627fad77dd17b7b236b6561c18457e5e',\n",
       "              'scene-undivided.scikitml.bz2'],\n",
       "             ('scene', 'test'): ['7e03886ed1c8a49cdb552c89ecb7185f',\n",
       "              'scene-test.scikitml.bz2'],\n",
       "             ('scene', 'train'): ['49a1866da9a56125dd32fc3ce0eeacf9',\n",
       "              'scene-train.scikitml.bz2'],\n",
       "             ('tmc2007_500', 'undivided'): ['963b8594395f5c0eec128b029dd2035a',\n",
       "              'tmc2007_500-undivided.scikitml.bz2'],\n",
       "             ('tmc2007_500', 'test'): ['1a17737bfe8cb24a9a8b487a443e68f2',\n",
       "              'tmc2007_500-test.scikitml.bz2'],\n",
       "             ('tmc2007_500', 'train'): ['93d50cff83fecade6991b2882ced553a',\n",
       "              'tmc2007_500-train.scikitml.bz2'],\n",
       "             ('yeast', 'undivided'): ['81996c76ec858ae4343f6f33ea1f0504',\n",
       "              'yeast-undivided.scikitml.bz2'],\n",
       "             ('yeast', 'test'): ['d868f6ea5f0c2b78a96477c6722fee13',\n",
       "              'yeast-test.scikitml.bz2'],\n",
       "             ('yeast', 'train'): ['90be9e0e636b624269794865e82c2667',\n",
       "              'yeast-train.scikitml.bz2']})"
      ]
     },
     "execution_count": 16,
     "metadata": {},
     "output_type": "execute_result"
    }
   ],
   "source": [
    "import skmultilearn\n",
    "skmultilearn.dataset.available_data_sets()"
   ]
  },
  {
   "cell_type": "markdown",
   "metadata": {},
   "source": [
    "*  **scene**: Imágenes de escenas naturales categorizadas en múltiples etiquetas: Buildings, Forests, Mountains, Glacier, Street y Sea.\n",
    "*  **Corel5k**: Imágenes anotadas con múltiples palabras clave que describen su contenido.\n",
    "*  **bibtex**: Datos extraídos de BibTeX con etiquetas que representan categorías de artículos científicos.\n",
    "*  **enron**: Correos electrónicos clasificados con múltiples etiquetas relacionadas con temas de discusión.\n",
    "*  **rcv1subset1, rcv1subset2, ..., rcv1subset5**: Subconjuntos del Reuters Corpus Volume 1 (RCV1), que *  contiene noticias clasificadas en múltiples categorías.\n",
    "*  **tmc2007_500**: Datos de tráfico aéreo con etiquetas sobre temas específicos de comunicación.\n",
    "*  **delicious**: Datos de Delicious, una plataforma de marcadores web, con etiquetas que representan *  categorías de contenido.\n",
    "*  **genbase**: Datos de proteínas con etiquetas que representan funciones biológicas.\n",
    "*  **birds**: Grabaciones de canto de aves con etiquetas correspondientes a diferentes especies de aves.\n",
    "*  **emotions**: Datos musicales etiquetados con emociones como \"feliz\", \"triste\", \"relajado\", etc.\n",
    "*  **mediamill**: Datos de videos con múltiples etiquetas relacionadas con su contenido visual.\n",
    "*  **medical**: Datos de historias clínicas con etiquetas correspondientes a enfermedades o condiciones médicas.\n",
    "*  **yeast**: Datos de biología molecular sobre la funcionalidad de genes en la levadura."
   ]
  },
  {
   "cell_type": "markdown",
   "metadata": {},
   "source": [
    "## Ejercicio 3\n",
    "<p>Escribe un script en Python (<code>car.py</code>) que calcule para cada uno de los datasets de los ejercicios anteriores las siguientes medidas de caracterización y que las muestre en pantalla de forma ordenada:</p>\n",
    "    <ul>\n",
    "        <li><strong>n</strong>: Número de instancias</li>\n",
    "        <li><strong>f</strong>: Número de atributos</li>\n",
    "        <li><strong>l</strong>: Número de etiquetas</li>\n",
    "        <li><strong>car</strong>: Cardinalidad</li>\n",
    "        <li><strong>den</strong>: Densidad</li>\n",
    "        <li><strong>div</strong>: Diversidad (porcentaje de labelsets presentes en el dataset dividido por el número de posibles labelsets)</li>\n",
    "        <li><strong>avgIR</strong>: Ratio promedio de desequilibrio por etiqueta (cuanto mayor sea avgIR, mayor será el desequilibrio del dataset)</li>\n",
    "        <li><strong>rDep</strong>: Proporción de pares de etiquetas que son dependientes con un 99% de confianza según la prueba chi-cuadrado</li>\n",
    "    </ul>"
   ]
  },
  {
   "cell_type": "markdown",
   "metadata": {},
   "source": [
    "<table border=\"1\">\n",
    "    <tr>\n",
    "        <th>Dataset</th>\n",
    "        <th>Instances (n)</th>\n",
    "        <th>Attributes (f)</th>\n",
    "        <th>Labels (l)</th>\n",
    "        <th>Cardinality (car)</th>\n",
    "        <th>Density (den)</th>\n",
    "        <th>Diversity (div)</th>\n",
    "        <th>Average Imbalance Ratio (avgIR)</th>\n",
    "        <th>Ratio of Dependent Labels (rDep)</th>\n",
    "    </tr>\n",
    "    <tr><td>scene</td><td>1211</td><td>294</td><td>6</td><td>1.0619</td><td>0.1769</td><td>0.21875</td><td>1.3258</td><td>1.0</td></tr>\n",
    "    <tr><td>Corel5k</td><td>4500</td><td>499</td><td>374</td><td>3.5216</td><td>0.0094</td><td>7.6e-110</td><td>8053651.1729</td><td>0.29975</td></tr>\n",
    "    <tr><td>bibtex</td><td>4880</td><td>1836</td><td>159</td><td>2.3803</td><td>0.0149</td><td>2.81e-45</td><td>12.7832</td><td>0.2403</td></tr>\n",
    "    <tr><td>enron</td><td>1123</td><td>1001</td><td>53</td><td>3.3865</td><td>0.0639</td><td>6.05e-14</td><td>11320823.4112</td><td>0.1611</td></tr>\n",
    "    <tr><td>rcv1subset5</td><td>3000</td><td>47235</td><td>101</td><td>2.87</td><td>0.0284</td><td>2.05e-28</td><td>182.9198</td><td>0.2857</td></tr>\n",
    "    <tr><td>tmc2007_500</td><td>21519</td><td>500</td><td>22</td><td>2.2256</td><td>0.1012</td><td>0.000279</td><td>17.1111</td><td>0.7512</td></tr>\n",
    "    <tr><td>rcv1subset3</td><td>3000</td><td>47236</td><td>101</td><td>2.8957</td><td>0.0287</td><td>2.10e-28</td><td>192.4806</td><td>0.3025</td></tr>\n",
    "    <tr><td>rcv1subset1</td><td>3000</td><td>47236</td><td>101</td><td>2.9143</td><td>0.0289</td><td>2.06e-28</td><td>191.4248</td><td>0.2844</td></tr>\n",
    "    <tr><td>delicious</td><td>12920</td><td>500</td><td>983</td><td>19.0471</td><td>0.0194</td><td>1.55e-292</td><td>70.9450</td><td>0.2870</td></tr>\n",
    "    <tr><td>rcv1subset4</td><td>3000</td><td>47229</td><td>101</td><td>2.9103</td><td>0.0288</td><td>2.01e-28</td><td>170.8364</td><td>0.2877</td></tr>\n",
    "    <tr><td>genbase</td><td>463</td><td>1186</td><td>27</td><td>1.2613</td><td>0.0467</td><td>2.16e-07</td><td>8666689.6009</td><td>0.7333</td></tr>\n",
    "    <tr><td>birds</td><td>322</td><td>260</td><td>19</td><td>1.0590</td><td>0.0557</td><td>0.000170</td><td>6.1029</td><td>0.1176</td></tr>\n",
    "    <tr><td>emotions</td><td>391</td><td>72</td><td>6</td><td>1.8133</td><td>0.3022</td><td>0.40625</td><td>1.4867</td><td>0.9286</td></tr>\n",
    "    <tr><td>rcv1subset2</td><td>3000</td><td>47236</td><td>101</td><td>2.9087</td><td>0.0288</td><td>2.12e-28</td><td>177.8868</td><td>0.2818</td></tr>\n",
    "    <tr><td>mediamill</td><td>30993</td><td>120</td><td>101</td><td>4.3628</td><td>0.0432</td><td>1.94e-27</td><td>391.1532</td><td>0.5779</td></tr>\n",
    "    <tr><td>medical</td><td>333</td><td>1449</td><td>45</td><td>1.2553</td><td>0.0279</td><td>1.73e-12</td><td>15244477.7900</td><td>0.1481</td></tr>\n",
    "    <tr><td>yeast</td><td>1500</td><td>103</td><td>14</td><td>4.2280</td><td>0.3020</td><td>0.0100</td><td>7.2736</td><td>0.5783</td></tr>\n",
    "</table>\n"
   ]
  },
  {
   "cell_type": "markdown",
   "metadata": {},
   "source": [
    "## Ejercicio 4\n",
    "Busca en Internet dos datasets extra. Descárgalos localmente y realiza un script en Python\n",
    "para cargarlos y recalcular todas las medidas del paso anterior sobre los mismos. Debes\n",
    "escoger datasets variados, con diferente número de etiquetas, variables e instancias."
   ]
  },
  {
   "cell_type": "markdown",
   "metadata": {},
   "source": [
    "He seleccionado CHD_49 y Stackex_cs de https://www.uco.es/kdis/mllresources/ . \n",
    "<table border=\"1\">\n",
    "    <tr>\n",
    "        <th>Dataset</th>\n",
    "        <th>Instances (n)</th>\n",
    "        <th>Attributes (f)</th>\n",
    "        <th>Labels (l)</th>\n",
    "        <th>Cardinality (car)</th>\n",
    "        <th>Density (den)</th>\n",
    "        <th>Diversity (div)</th>\n",
    "        <th>Average Imbalance Ratio (avgIR)</th>\n",
    "        <th>Ratio of Dependent Labels (rDep)</th>\n",
    "    </tr>\n",
    "    <tr>\n",
    "        <td>CHD_49.mat</td>\n",
    "        <td>555</td>\n",
    "        <td>49</td>\n",
    "        <td>6</td>\n",
    "        <td>-0.8396</td>\n",
    "        <td>-0.1399</td>\n",
    "        <td>0.5312</td>\n",
    "        <td>-2.6744</td>\n",
    "        <td>0.0000</td>\n",
    "    </tr>\n",
    "    <tr>\n",
    "        <td>cs.arff</td>\n",
    "        <td>9270</td>\n",
    "        <td>908</td>\n",
    "        <td>2</td>\n",
    "        <td>1</td>\n",
    "        <td>0.5000</td>\n",
    "        <td>0.5000</td>\n",
    "        <td>421.3636</td>\n",
    "        <td>0.0000</td>\n",
    "    </tr>\n",
    "</table>\n"
   ]
  },
  {
   "cell_type": "markdown",
   "metadata": {},
   "source": [
    "## Ejercicio 5\n",
    "Familiarízate con la documentación scikit-multilearn en: http://scikit.ml/ Prueba los métodos\n",
    "ML disponibles pertenecientes a las dos categorías (transformación y adaptación) que hemos\n",
    "visto en teoría."
   ]
  },
  {
   "cell_type": "code",
   "execution_count": 2,
   "metadata": {},
   "outputs": [
    {
     "name": "stdout",
     "output_type": "stream",
     "text": [
      "yeast:train - exists, not redownloading\n",
      "yeast:test - exists, not redownloading\n"
     ]
    }
   ],
   "source": [
    "from skmultilearn.dataset import load_dataset\n",
    "X_train, y_train, feature_names, label_names = load_dataset('yeast', 'train')\n",
    "X_test, y_test, _, _ = load_dataset('yeast', 'test')"
   ]
  },
  {
   "cell_type": "markdown",
   "metadata": {},
   "source": [
    "### Método de transformación: Binary Relevance"
   ]
  },
  {
   "cell_type": "markdown",
   "metadata": {},
   "source": [
    "Como método perteneciente a la categoría de transformación del problema he elegido Binary Relevance. Se separará el problema en L problemas binarios y se usará un clasificador binario base (SVC en este caso)."
   ]
  },
  {
   "cell_type": "code",
   "execution_count": 3,
   "metadata": {},
   "outputs": [],
   "source": [
    "from skmultilearn.problem_transform import BinaryRelevance\n",
    "from sklearn.svm import SVC\n",
    "\n",
    "classifier = BinaryRelevance(\n",
    "    classifier = SVC()\n",
    ")\n",
    "\n",
    "# Entrenamiento\n",
    "classifier.fit(X_train, y_train)\n",
    "\n",
    "# Predicciones\n",
    "predictions = classifier.predict(X_test)"
   ]
  },
  {
   "cell_type": "code",
   "execution_count": 4,
   "metadata": {},
   "outputs": [
    {
     "name": "stdout",
     "output_type": "stream",
     "text": [
      "Hamming Loss: 0.1866\n",
      "Accuracy: 0.2017\n"
     ]
    }
   ],
   "source": [
    "from sklearn.metrics import hamming_loss, accuracy_score, confusion_matrix\n",
    "import numpy as np\n",
    "\n",
    "y_pred = predictions.toarray()\n",
    "y_test = y_test.toarray()\n",
    "\n",
    "# Hamming Loss \n",
    "hamming = hamming_loss(y_test, y_pred)\n",
    "print(f\"Hamming Loss: {hamming:.4f}\")\n",
    "\n",
    "# Accuracy\n",
    "accuracy = accuracy_score(y_test, y_pred)\n",
    "print(f\"Accuracy: {accuracy:.4f}\")\n"
   ]
  },
  {
   "cell_type": "markdown",
   "metadata": {},
   "source": [
    "### Método de adaptación: MLkNN"
   ]
  },
  {
   "cell_type": "code",
   "execution_count": null,
   "metadata": {},
   "outputs": [],
   "source": [
    "from skmultilearn.adapt import MLkNN\n",
    "classifier = MLkNN(k=3)\n",
    "\n",
    "# Entrenamiento\n",
    "prediction = classifier.fit(X_train, y_train).predict(X_test)\n",
    "\n",
    "# Predicciones\n",
    "predictions = classifier.predict(X_test)"
   ]
  },
  {
   "cell_type": "code",
   "execution_count": null,
   "metadata": {},
   "outputs": [],
   "source": [
    "from sklearn.metrics import hamming_loss, accuracy_score, confusion_matrix\n",
    "import numpy as np\n",
    "\n",
    "y_pred = predictions.toarray()\n",
    "y_test = y_test.toarray()\n",
    "\n",
    "# Hamming Loss \n",
    "hamming = hamming_loss(y_test, y_pred)\n",
    "print(f\"Hamming Loss: {hamming:.4f}\")\n",
    "\n",
    "# Accuracy\n",
    "accuracy = accuracy_score(y_test, y_pred)\n",
    "print(f\"Accuracy: {accuracy:.4f}\")\n"
   ]
  },
  {
   "cell_type": "markdown",
   "metadata": {},
   "source": [
    "## Ejercicio 6\n",
    "Repasa lo que ya estudiado anteriormente sobre validación cruzada, investiga las funciones:\n",
    "KFold() y cross_validate(), cross_val_score y make_scorer(). ¿Cómo aplicarías validación\n",
    "cruzada en el contexto ML? Pega a continuación el código de un ejemplo de uso."
   ]
  },
  {
   "cell_type": "code",
   "execution_count": 47,
   "metadata": {},
   "outputs": [
    {
     "name": "stdout",
     "output_type": "stream",
     "text": [
      "scene:train - exists, not redownloading\n",
      "scene:test - exists, not redownloading\n",
      "Tamaño de X_train: (1211, 294), y_train: (1211, 6)\n",
      "Tamaño de X_test: (1196, 294), y_test: (1196, 6)\n",
      "Tamaño final de X_train: (1211, 294), y_train: (1211, 6)\n",
      "Tamaño final de X_test: (1196, 294), y_test: (1196, 6)\n",
      "Tamaño final de X: (2407, 294), Tamaño final de y: (2407, 6)\n",
      "Accuracy por fold (validación): [0.61410788 0.5373444  0.56133056 0.58212058 0.52390852]\n",
      "Accuracy promedio: 0.5637623899034688\n"
     ]
    }
   ],
   "source": [
    "from sklearn.model_selection import KFold, cross_validate\n",
    "from sklearn.metrics import accuracy_score, make_scorer\n",
    "from sklearn.ensemble import RandomForestClassifier\n",
    "from sklearn.multioutput import MultiOutputClassifier\n",
    "from skmultilearn.dataset import load_dataset\n",
    "import numpy as np\n",
    "import scipy.sparse\n",
    "\n",
    "# Cargar dataset \"scene\"\n",
    "(X_train, y_train, _, _), (X_test, y_test, _, _) = load_dataset('scene', \"train\"), load_dataset('scene', \"test\")\n",
    "\n",
    "# Verificar las dimensiones iniciales\n",
    "print(f\"Tamaño de X_train: {X_train.shape}, y_train: {y_train.shape}\")\n",
    "print(f\"Tamaño de X_test: {X_test.shape}, y_test: {y_test.shape}\")\n",
    "\n",
    "# Asegurar que los datos no sean objetos vacíos o de dimensión incorrecta\n",
    "if X_train is None or X_test is None or y_train is None or y_test is None:\n",
    "    raise ValueError(\"Los datos cargados contienen valores None, verifica la carga del dataset.\")\n",
    "\n",
    "# Convertir datos a arrays densos si son matrices dispersas\n",
    "if scipy.sparse.issparse(X_train):\n",
    "    X_train = X_train.toarray()\n",
    "if scipy.sparse.issparse(X_test):\n",
    "    X_test = X_test.toarray()\n",
    "if scipy.sparse.issparse(y_train):\n",
    "    y_train = y_train.toarray()\n",
    "if scipy.sparse.issparse(y_test):\n",
    "    y_test = y_test.toarray()\n",
    "\n",
    "# Verificar nuevamente las dimensiones\n",
    "print(f\"Tamaño final de X_train: {X_train.shape}, y_train: {y_train.shape}\")\n",
    "print(f\"Tamaño final de X_test: {X_test.shape}, y_test: {y_test.shape}\")\n",
    "\n",
    "# Concatenar los datos correctamente\n",
    "X = np.concatenate((X_train, X_test), axis=0)\n",
    "y = np.concatenate((y_train, y_test), axis=0)\n",
    "\n",
    "# Confirmar que las dimensiones ahora sean correctas\n",
    "print(f\"Tamaño final de X: {X.shape}, Tamaño final de y: {y.shape}\")\n",
    "\n",
    "# Configurar validación cruzada\n",
    "kf = KFold(n_splits=5, shuffle=True, random_state=42)\n",
    "\n",
    "# Modelo multi-etiqueta con RandomForest\n",
    "base_model = RandomForestClassifier(n_estimators=100, random_state=42)\n",
    "model = MultiOutputClassifier(base_model)\n",
    "\n",
    "# Definir métrica de evaluación\n",
    "scorer = make_scorer(accuracy_score)\n",
    "\n",
    "# Aplicar validación cruzada\n",
    "scores = cross_validate(model, X, y, cv=kf, scoring={'accuracy': scorer}, return_train_score=True)\n",
    "\n",
    "# Mostrar resultados\n",
    "print(\"Accuracy por fold (validación):\", scores['test_accuracy'])\n",
    "print(\"Accuracy promedio:\", np.mean(scores['test_accuracy']))\n"
   ]
  },
  {
   "cell_type": "markdown",
   "metadata": {},
   "source": [
    "## Ejercicio 7"
   ]
  },
  {
   "cell_type": "markdown",
   "metadata": {},
   "source": [
    "Describe brevemente las métricas que utilizaremos: Accuracy, Hamming loss, Precision,\n",
    "Recall y F1_score. a información que aporta cada una de estas métricas. Investiga su uso\n",
    "estudiando classification metrics y classification_report()"
   ]
  },
  {
   "cell_type": "markdown",
   "metadata": {},
   "source": [
    "*  **Accuracy**: Representa el porcentaje de predicciones correctas en relación con el total de casos evaluados.\n",
    "*  **Hamming Loss**: Mide la frecuencia con la que una etiqueta asignada a una instancia es incorrecta, utilizando la operación XOR para detectar errores.\n",
    "*  **Precision**: Indica qué proporción de las predicciones positivas realmente corresponden a valores positivos, reflejando la estabilidad de la métrica en mediciones repetidas.\n",
    "*  **Recall**: Representa la proporción de etiquetas positivas reales que fueron correctamente identificadas en la predicción.\n",
    "*  **F1-Score**: equilibra precisión y recall mediante su media armónica."
   ]
  },
  {
   "cell_type": "markdown",
   "metadata": {},
   "source": [
    "## Ejercicio 8"
   ]
  },
  {
   "cell_type": "markdown",
   "metadata": {},
   "source": [
    "Escribe un script en Python (cl-cv.py) seleccionando al menos 3 métodos (que NO pertenezcan todos a la misma categoría) para evaluarlos con 5 de los datasets que recopilaste anteriormente y calcula las métricas resultantes mediante validación cruzada. El script mostrará el resultado de las métricas anteriores"
   ]
  },
  {
   "cell_type": "markdown",
   "metadata": {},
   "source": [
    "<table border=\"1\">\n",
    "    <thead>\n",
    "        <tr>\n",
    "            <th>Dataset</th>\n",
    "            <th>Método</th>\n",
    "            <th>Accuracy</th>\n",
    "            <th>Hamming Loss</th>\n",
    "            <th>Precision</th>\n",
    "            <th>Recall</th>\n",
    "            <th>F1-score</th>\n",
    "            <th>Tiempo de ejecución</th>\n",
    "        </tr>\n",
    "    </thead>\n",
    "    <tbody>\n",
    "        <tr><td rowspan=\"3\">scene (GaussianNB)</td><td>BinaryRelevance</td><td>0.1757</td><td>0.2376</td><td>0.4557</td><td>0.8540</td><td>0.5848</td><td>0.69s</td></tr>\n",
    "        <tr><td>ClassifierChain</td><td>0.2929</td><td>0.2063</td><td>0.5051</td><td>0.6300</td><td>0.5059</td><td>0.81s</td></tr>\n",
    "        <tr><td>LabelPowerset</td><td>0.5467</td><td>0.1329</td><td>0.6585</td><td>0.6841</td><td>0.6596</td><td>0.42s</td></tr>\n",
    "        \n",
    "<tr><td rowspan=\"3\">enron (GaussianNB)</td><td>BinaryRelevance</td><td>0.0006</td><td>0.2037</td><td>0.1315</td><td>0.3370</td><td>0.1546</td><td>7.96s</td></tr>\n",
    "        <tr><td>ClassifierChain</td><td>0.0012</td><td>0.1420</td><td>0.1367</td><td>0.2394</td><td>0.1387</td><td>9.18s</td></tr>\n",
    "        <tr><td>LabelPowerset</td><td>0.0999</td><td>0.0661</td><td>0.2278</td><td>0.1254</td><td>0.1377</td><td>11.12s</td></tr>\n",
    "        \n",
    "<tr><td rowspan=\"3\">medical (GaussianNB)</td><td>BinaryRelevance</td><td>0.1472</td><td>0.0355</td><td>0.2477</td><td>0.1768</td><td>0.1830</td><td>6.10s</td></tr>\n",
    "        <tr><td>ClassifierChain</td><td>0.1564</td><td>0.0319</td><td>0.2531</td><td>0.1448</td><td>0.1611</td><td>7.19s</td></tr>\n",
    "        <tr><td>LabelPowerset</td><td>0.3630</td><td>0.0267</td><td>0.2754</td><td>0.2018</td><td>0.2181</td><td>1.23s</td></tr>\n",
    "        \n",
    "<tr><td rowspan=\"3\">scene (DecisionTreeClassifier)</td><td>BinaryRelevance</td><td>0.3835</td><td>0.1471</td><td>0.6010</td><td>0.6105</td><td>0.6056</td><td>15.59s</td></tr>\n",
    "        <tr><td>ClassifierChain</td><td>0.4624</td><td>0.1491</td><td>0.5984</td><td>0.6133</td><td>0.6055</td><td>16.32s</td></tr>\n",
    "        <tr><td>LabelPowerset</td><td>0.5330</td><td>0.1467</td><td>0.6053</td><td>0.6085</td><td>0.6066</td><td>4.24s</td></tr>\n",
    "        \n",
    "<tr><td rowspan=\"3\">enron (DecisionTreeClassifier)</td><td>BinaryRelevance</td><td>0.0934</td><td>0.0680</td><td>0.1911</td><td>0.2054</td><td>0.1961</td><td>18.42s</td></tr>\n",
    "        <tr><td>ClassifierChain</td><td>0.1110</td><td>0.0712</td><td>0.1822</td><td>0.2095</td><td>0.1919</td><td>16.87s</td></tr>\n",
    "        <tr><td>LabelPowerset</td><td>0.1210</td><td>0.0678</td><td>0.1995</td><td>0.1689</td><td>0.1786</td><td>3.03s</td></tr>\n",
    "        \n",
    "<tr><td rowspan=\"3\">medical (DecisionTreeClassifier)</td><td>BinaryRelevance</td><td>0.6227</td><td>0.0117</td><td>0.4347</td><td>0.4504</td><td>0.4374</td><td>4.54s</td></tr>\n",
    "        <tr><td>ClassifierChain</td><td>0.6534</td><td>0.0113</td><td>0.4529</td><td>0.4524</td><td>0.4472</td><td>4.43s</td></tr>\n",
    "        <tr><td>LabelPowerset</td><td>0.6585</td><td>0.0131</td><td>0.3689</td><td>0.3510</td><td>0.3522</td><td>0.34s</td></tr>\n",
    "    </tbody>\n",
    "</table>\n"
   ]
  },
  {
   "cell_type": "markdown",
   "metadata": {},
   "source": [
    "## Ejercicio 9"
   ]
  },
  {
   "cell_type": "markdown",
   "metadata": {},
   "source": [
    "Responde a las siguientes preguntas:\n",
    "\n",
    "<ol type=\"a\">\n",
    "        <li>¿Qué método(s) parece(n) comportarse mejor globalmente? Entre otros aspectos, analiza el efecto que tiene en el rendimiento de los métodos de transformación la elección que hagamos del clasificador base.\n",
    "        </li>\n",
    "        <li>¿Cuál es el tiempo de ejecución de cada método? ¿Existen diferencias destacables?\n",
    "        </li>\n",
    "        <li>¿Observas diferencias reseñables en cuanto a los valores de cada métrica?</li>\n",
    "        <li>Analiza si observas alguna relación entre los resultados obtenidos para las métricas de evaluación y las características propias del conjunto ML: número de instancias, número de etiquetas, densidad, cardinalidad...? Etc. Escribe un breve informe sobre si los estadísticos calculados en el entregable1 dan información del rendimiento que estás observando. ¿Se pueden extraer conclusiones al respecto? Puedes buscar información en referencias bibliográficas previas.\n",
    "        </li>\n",
    "        <li>Realiza un script para visualizar gráficamente (mediante matplotlib) el comportamiento de los métodos.</li>\n",
    "    </ol>"
   ]
  },
  {
   "cell_type": "markdown",
   "metadata": {},
   "source": [
    "a.\n",
    "\n",
    "*  Mejor método globalmente: Label Powerset (LP) obtiene la mayor accuracy y menor Hamming Loss en la mayoría de los casos, seguido por Classifier Chain (CC) y finalmente Binary Relevance (BR), que tiene el peor desempeño.\n",
    "\n",
    "*  Impacto del clasificador base: DecisionTreeClassifier mejora notablemente los resultados frente a GaussianNB, aumentando accuracy y reduciendo Hamming Loss, especialmente en el dataset medical.\n",
    "\n",
    "*  Conclusiones finales:\n",
    "    * LP es la mejor opción si se prioriza precisión.\n",
    "    * CC ofrece un buen balance entre precisión y flexibilidad.\n",
    "    * BR es la opción menos efectiva.\n",
    "    * DecisionTreeClassifier es preferible sobre Naïve Bayes para todos los métodos.\n"
   ]
  },
  {
   "cell_type": "markdown",
   "metadata": {},
   "source": [
    "b.\n",
    "\n",
    "En promedio, Label Powerset (LP) es el más rápido (3.73s), seguido de Binary Relevance (BR) (8.55s) y Classifier Chain (CC) (9s). LP se ejecuta hasta tres veces más rápido que BR y CC, especialmente en el dataset medical. La mayor lentitud de BR y CC se debe a que entrenan múltiples modelos, mientras que LP trata combinaciones de etiquetas como clases únicas. Además, DecisionTreeClassifier tarda más que GaussianNB, aunque ofrece mejor rendimiento en precisión."
   ]
  },
  {
   "cell_type": "markdown",
   "metadata": {},
   "source": [
    "c.\n",
    "\n",
    "Sí, se observan diferencias notables en las métricas según el método y el clasificador base utilizado. Label Powerset obtiene la mejor accuracy y menor Hamming Loss en la mayoría de los casos, lo que indica una mejor clasificación. Classifier Chain tiene un rendimiento intermedio, mientras que Binary Relevance es el peor método en general, con menor precisión y recall debido a que trata las etiquetas de forma independiente.\n",
    "\n",
    "Además, DecisionTreeClassifier mejora considerablemente las métricas frente a GaussianNB, aumentando la accuracy (especialmente en el dataset medical, donde LP pasa de 0.36 a 0.65) y reduciendo la Hamming Loss en todos los casos. Sin embargo, el impacto del clasificador es menor en el dataset scene, donde las diferencias entre métodos son más sutiles."
   ]
  },
  {
   "cell_type": "markdown",
   "metadata": {},
   "source": [
    "d.\n",
    "\n",
    "Los resultados muestran que datasets con más etiquetas y mayor cardinalidad (como enron) obtienen peor accuracy y mayor Hamming Loss, mientras que en conjuntos con menos etiquetas (como medical) los métodos logran mejor rendimiento.\n",
    "\n",
    "La densidad influye en Hamming Loss en datasets más densos, el error es mayor porque es más difícil capturar todas las etiquetas.\n",
    "\n",
    "En general, más etiquetas y mayor cardinalidad reducen la precisión, mientras que una menor densidad tiende a disminuir la Hamming Loss."
   ]
  },
  {
   "cell_type": "markdown",
   "metadata": {},
   "source": [
    "e."
   ]
  },
  {
   "cell_type": "code",
   "execution_count": 12,
   "metadata": {},
   "outputs": [
    {
     "data": {
      "image/png": "[encoded data removed]",
      "text/plain": [
       "<Figure size 1000x600 with 1 Axes>"
      ]
     },
     "metadata": {},
     "output_type": "display_data"
    },
    {
     "data": {
      "image/png": "[encoded data removed]",
      "text/plain": [
       "<Figure size 1000x600 with 1 Axes>"
      ]
     },
     "metadata": {},
     "output_type": "display_data"
    },
    {
     "data": {
      "image/png": "[encoded data removed]",
      "text/plain": [
       "<Figure size 1000x600 with 1 Axes>"
      ]
     },
     "metadata": {},
     "output_type": "display_data"
    }
   ],
   "source": [
    "import numpy as np\n",
    "import matplotlib.pyplot as plt\n",
    "import seaborn as sns\n",
    "\n",
    "# Datos de rendimiento extraídos de la tabla\n",
    "metodos = ['Binary Relevance', 'Classifier Chain', 'Label Powerset']\n",
    "datasets = ['scene', 'enron', 'medical']\n",
    "clasificadores = ['GaussianNB', 'DecisionTree']\n",
    "\n",
    "# Datos organizados por clasificador\n",
    "accuracy = {\n",
    "    'GaussianNB': {\n",
    "        'scene': [0.1757, 0.2929, 0.5467],\n",
    "        'enron': [0.0006, 0.0012, 0.0999],\n",
    "        'medical': [0.1472, 0.1564, 0.3630]\n",
    "    },\n",
    "    'DecisionTree': {\n",
    "        'scene': [0.3835, 0.4624, 0.5330],\n",
    "        'enron': [0.0934, 0.1110, 0.1210],\n",
    "        'medical': [0.6227, 0.6534, 0.6585]\n",
    "    }\n",
    "}\n",
    "\n",
    "hamming_loss = {\n",
    "    'GaussianNB': {\n",
    "        'scene': [0.2376, 0.2063, 0.1329],\n",
    "        'enron': [0.2037, 0.1420, 0.0661],\n",
    "        'medical': [0.0355, 0.0319, 0.0267]\n",
    "    },\n",
    "    'DecisionTree': {\n",
    "        'scene': [0.1471, 0.1491, 0.1467],\n",
    "        'enron': [0.0680, 0.0712, 0.0678],\n",
    "        'medical': [0.0117, 0.0113, 0.0131]\n",
    "    }\n",
    "}\n",
    "\n",
    "f1_score = {\n",
    "    'GaussianNB': {\n",
    "        'scene': [0.5848, 0.5059, 0.6596],\n",
    "        'enron': [0.1546, 0.1387, 0.1377],\n",
    "        'medical': [0.1830, 0.1611, 0.2181]\n",
    "    },\n",
    "    'DecisionTree': {\n",
    "        'scene': [0.6056, 0.6055, 0.6066],\n",
    "        'enron': [0.1961, 0.1919, 0.1786],\n",
    "        'medical': [0.4374, 0.4472, 0.3522]\n",
    "    }\n",
    "}\n",
    "\n",
    "# Función para generar los gráficos\n",
    "def plot_metrics(metric_data, metric_name, ylabel, ylim=None):\n",
    "    plt.figure(figsize=(10, 6))\n",
    "    width = 0.1\n",
    "    x = np.arange(len(metodos))\n",
    "    \n",
    "    for i, clf in enumerate(clasificadores):\n",
    "        for j, dataset in enumerate(datasets):\n",
    "            plt.bar(x + (i * len(datasets) + j) * width, metric_data[clf][dataset], width, label=f'{dataset} ({clf})')\n",
    "    \n",
    "    plt.xticks(x + (len(clasificadores) * len(datasets) * width) / 2 - width, metodos)\n",
    "    plt.ylabel(ylabel)\n",
    "    plt.title(f'Comparación de {metric_name} por método y clasificador')\n",
    "    if ylim:\n",
    "        plt.ylim(ylim)\n",
    "    plt.legend()\n",
    "    plt.show()\n",
    "\n",
    "# Generar gráficos\n",
    "plot_metrics(accuracy, 'Accuracy', 'Accuracy', ylim=(0, 1))\n",
    "plot_metrics(hamming_loss, 'Hamming Loss', 'Hamming Loss', ylim=(0, 0.3))\n",
    "plot_metrics(f1_score, 'F1-score', 'F1-score', ylim=(0, 1))\n"
   ]
  }
 ],
 "metadata": {
  "kernelspec": {
   "display_name": "Python 3",
   "language": "python",
   "name": "python3"
  },
  "language_info": {
   "codemirror_mode": {
    "name": "ipython",
    "version": 3
   },
   "file_extension": ".py",
   "mimetype": "text/x-python",
   "name": "python",
   "nbconvert_exporter": "python",
   "pygments_lexer": "ipython3",
   "version": "3.12.1"
  }
 },
 "nbformat": 4,
 "nbformat_minor": 2
}
